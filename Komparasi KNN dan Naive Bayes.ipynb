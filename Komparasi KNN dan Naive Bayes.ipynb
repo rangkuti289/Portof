{
  "cells": [
    {
      "cell_type": "markdown",
      "metadata": {
        "id": "view-in-github",
        "colab_type": "text"
      },
      "source": [
        "<a href=\"https://colab.research.google.com/github/rangkuti289/Portof/blob/master/Komparasi%20KNN%20dan%20Naive%20Bayes.ipynb\" target=\"_parent\"><img src=\"https://colab.research.google.com/assets/colab-badge.svg\" alt=\"Open In Colab\"/></a>"
      ]
    },
    {
      "cell_type": "code",
      "execution_count": null,
      "metadata": {
        "id": "7J_ejRqvwD2J"
      },
      "outputs": [],
      "source": [
        "#import libraries\n",
        "import itertools\n",
        "import numpy as np\n",
        "import matplotlib.pyplot as plt\n",
        "from matplotlib.ticker import NullFormatter\n",
        "import pandas as pd\n",
        "import matplotlib.ticker as ticker\n",
        "from sklearn import preprocessing\n",
        "%matplotlib inline"
      ]
    },
    {
      "cell_type": "code",
      "execution_count": null,
      "metadata": {
        "colab": {
          "base_uri": "https://localhost:8080/"
        },
        "id": "B0j8Di3dY2eF",
        "outputId": "95bbacc4-66da-40da-837f-ba191a0c4812"
      },
      "outputs": [
        {
          "output_type": "stream",
          "name": "stdout",
          "text": [
            "Mounted at /content/drive\n"
          ]
        }
      ],
      "source": [
        "from google.colab import drive\n",
        "drive.mount('/content/drive')"
      ]
    },
    {
      "cell_type": "code",
      "execution_count": null,
      "metadata": {
        "id": "-zajXMvDZaiE"
      },
      "outputs": [],
      "source": [
        "test_ta = pd.read_excel(\"drive/MyDrive/TA.xlsx\")"
      ]
    },
    {
      "cell_type": "code",
      "execution_count": null,
      "metadata": {
        "id": "eG5LCgYOxOiK"
      },
      "outputs": [],
      "source": [
        "# input data yang di inginkan\n",
        "# from google.colab import files\n",
        "# uploaded = files.upload()"
      ]
    },
    {
      "cell_type": "code",
      "execution_count": null,
      "metadata": {
        "id": "lv4UNRGtxdh7"
      },
      "outputs": [],
      "source": [
        "#untuk mendeklarasikan datatb\n",
        "#import io\n",
        "#test_ta = pd.read_excel(io.BytesIO(uploaded['data_test.xlsx']))\n",
        "#test_ta [0:5]"
      ]
    },
    {
      "cell_type": "code",
      "execution_count": null,
      "metadata": {
        "colab": {
          "base_uri": "https://localhost:8080/"
        },
        "id": "GS7-H-VwEkkB",
        "outputId": "8d7cdfdb-3d54-4a2f-c696-6e5029a9c0ab"
      },
      "outputs": [
        {
          "output_type": "execute_result",
          "data": {
            "text/plain": [
              "[RangeIndex(start=0, stop=250000, step=1),\n",
              " Index(['NMPROP', 'NMKAB', 'Jumlah_ART', 'Jumlah_Keluarga', 'status_bangunan',\n",
              "        'status_lahan', 'ada_tabung_gas', 'ada_lemari_es', 'ada_ac',\n",
              "        'ada_pemanas', 'ada_telepon', 'ada_tv', 'ada_emas', 'ada_laptop',\n",
              "        'ada_sepeda', 'ada_motor', 'ada_mobil', 'ada_perahu',\n",
              "        'ada_motor_tempel', 'ada_perahu_motor', 'ada_kapal',\n",
              "        'aset_tak_bergerak', 'luas_atb', 'rumah_lain', 'jumlah_sapi',\n",
              "        'jumlah_kerbau', 'jumlah_kuda', 'jumlah_babi', 'jumlah_kambing',\n",
              "        'sta_art_usaha', 'JnsKelamin', 'TmpLahir', 'TglLahir', 'Hub_KRT', 'NUK',\n",
              "        'Hubkel', 'Umur', 'kepemilikan_kartu', 'jenis_disabilitas',\n",
              "        'Partisipasi_sekolah', 'Pendidikan_tertinggi', 'Sta_Bekerja',\n",
              "        'Lapangan_usaha', 'Status_pekerjaan', 'lapangan_usahaart',\n",
              "        'lokasi_usaha', 'omset_usaha', 'ada_PKH', 'ada_KKS', 'ada_kip'],\n",
              "       dtype='object')]"
            ]
          },
          "metadata": {},
          "execution_count": 6
        }
      ],
      "source": [
        "test_ta.axes"
      ]
    },
    {
      "cell_type": "code",
      "execution_count": null,
      "metadata": {
        "colab": {
          "base_uri": "https://localhost:8080/",
          "height": 421
        },
        "id": "k-D3sgzpaQwR",
        "outputId": "6b76e6f1-1bd9-4cac-df43-bc953111cd90"
      },
      "outputs": [
        {
          "output_type": "execute_result",
          "data": {
            "text/plain": [
              "        NMPROP             NMKAB Jumlah_ART  Jumlah_Keluarga status_bangunan  \\\n",
              "0  DKI JAKARTA  KEPULAUAN SERIBU          3              1.0   Milik sendiri   \n",
              "1  DKI JAKARTA  KEPULAUAN SERIBU          3              1.0   Milik sendiri   \n",
              "2  DKI JAKARTA  KEPULAUAN SERIBU          2              1.0   Milik sendiri   \n",
              "3  DKI JAKARTA  KEPULAUAN SERIBU          3              1.0   Milik sendiri   \n",
              "4  DKI JAKARTA  KEPULAUAN SERIBU                         1.0   Milik sendiri   \n",
              "\n",
              "    status_lahan ada_tabung_gas ada_lemari_es ada_ac ada_pemanas  ...  \\\n",
              "0  Milik sendiri          TIDAK            YA  TIDAK       TIDAK  ...   \n",
              "1  Milik sendiri          TIDAK            YA  TIDAK       TIDAK  ...   \n",
              "2  Milik sendiri          TIDAK         TIDAK  TIDAK       TIDAK  ...   \n",
              "3  Milik sendiri          TIDAK            YA  TIDAK       TIDAK  ...   \n",
              "4  Milik sendiri          TIDAK         TIDAK  TIDAK       TIDAK  ...   \n",
              "\n",
              "  Pendidikan_tertinggi Sta_Bekerja  \\\n",
              "0               SD/SLB          YA   \n",
              "1            SMP/SMPLB          YA   \n",
              "2               SD/SLB          YA   \n",
              "3        M. Tsanawiyah       TIDAK   \n",
              "4                  NaN       TIDAK   \n",
              "\n",
              "                                   Lapangan_usaha  \\\n",
              "0                             Bangunan/konstruksi   \n",
              "1  Jasa kemasyarakatan, pemerintahan & perorangan   \n",
              "2                               Perikanan tangkap   \n",
              "3                                             NaN   \n",
              "4                                             NaN   \n",
              "\n",
              "              Status_pekerjaan lapangan_usahaart lokasi_usaha omset_usaha  \\\n",
              "0  Pekerja bebas non-pertanian               NaN          NaN         NaN   \n",
              "1  Pekerja bebas non-pertanian               NaN          NaN         NaN   \n",
              "2             Berusaha sendiri               NaN          NaN         NaN   \n",
              "3                          NaN               NaN          NaN         NaN   \n",
              "4                          NaN               NaN          NaN         NaN   \n",
              "\n",
              "  ada_PKH ada_KKS ada_kip  \n",
              "0       0       0       0  \n",
              "1       0       0       0  \n",
              "2       1       0       0  \n",
              "3       0       0       0  \n",
              "4       1       0       0  \n",
              "\n",
              "[5 rows x 50 columns]"
            ],
            "text/html": [
              "\n",
              "  <div id=\"df-94d8e8f0-bd4e-4012-ab5b-63a17ef69766\">\n",
              "    <div class=\"colab-df-container\">\n",
              "      <div>\n",
              "<style scoped>\n",
              "    .dataframe tbody tr th:only-of-type {\n",
              "        vertical-align: middle;\n",
              "    }\n",
              "\n",
              "    .dataframe tbody tr th {\n",
              "        vertical-align: top;\n",
              "    }\n",
              "\n",
              "    .dataframe thead th {\n",
              "        text-align: right;\n",
              "    }\n",
              "</style>\n",
              "<table border=\"1\" class=\"dataframe\">\n",
              "  <thead>\n",
              "    <tr style=\"text-align: right;\">\n",
              "      <th></th>\n",
              "      <th>NMPROP</th>\n",
              "      <th>NMKAB</th>\n",
              "      <th>Jumlah_ART</th>\n",
              "      <th>Jumlah_Keluarga</th>\n",
              "      <th>status_bangunan</th>\n",
              "      <th>status_lahan</th>\n",
              "      <th>ada_tabung_gas</th>\n",
              "      <th>ada_lemari_es</th>\n",
              "      <th>ada_ac</th>\n",
              "      <th>ada_pemanas</th>\n",
              "      <th>...</th>\n",
              "      <th>Pendidikan_tertinggi</th>\n",
              "      <th>Sta_Bekerja</th>\n",
              "      <th>Lapangan_usaha</th>\n",
              "      <th>Status_pekerjaan</th>\n",
              "      <th>lapangan_usahaart</th>\n",
              "      <th>lokasi_usaha</th>\n",
              "      <th>omset_usaha</th>\n",
              "      <th>ada_PKH</th>\n",
              "      <th>ada_KKS</th>\n",
              "      <th>ada_kip</th>\n",
              "    </tr>\n",
              "  </thead>\n",
              "  <tbody>\n",
              "    <tr>\n",
              "      <th>0</th>\n",
              "      <td>DKI JAKARTA</td>\n",
              "      <td>KEPULAUAN SERIBU</td>\n",
              "      <td>3</td>\n",
              "      <td>1.0</td>\n",
              "      <td>Milik sendiri</td>\n",
              "      <td>Milik sendiri</td>\n",
              "      <td>TIDAK</td>\n",
              "      <td>YA</td>\n",
              "      <td>TIDAK</td>\n",
              "      <td>TIDAK</td>\n",
              "      <td>...</td>\n",
              "      <td>SD/SLB</td>\n",
              "      <td>YA</td>\n",
              "      <td>Bangunan/konstruksi</td>\n",
              "      <td>Pekerja bebas non-pertanian</td>\n",
              "      <td>NaN</td>\n",
              "      <td>NaN</td>\n",
              "      <td>NaN</td>\n",
              "      <td>0</td>\n",
              "      <td>0</td>\n",
              "      <td>0</td>\n",
              "    </tr>\n",
              "    <tr>\n",
              "      <th>1</th>\n",
              "      <td>DKI JAKARTA</td>\n",
              "      <td>KEPULAUAN SERIBU</td>\n",
              "      <td>3</td>\n",
              "      <td>1.0</td>\n",
              "      <td>Milik sendiri</td>\n",
              "      <td>Milik sendiri</td>\n",
              "      <td>TIDAK</td>\n",
              "      <td>YA</td>\n",
              "      <td>TIDAK</td>\n",
              "      <td>TIDAK</td>\n",
              "      <td>...</td>\n",
              "      <td>SMP/SMPLB</td>\n",
              "      <td>YA</td>\n",
              "      <td>Jasa kemasyarakatan, pemerintahan &amp; perorangan</td>\n",
              "      <td>Pekerja bebas non-pertanian</td>\n",
              "      <td>NaN</td>\n",
              "      <td>NaN</td>\n",
              "      <td>NaN</td>\n",
              "      <td>0</td>\n",
              "      <td>0</td>\n",
              "      <td>0</td>\n",
              "    </tr>\n",
              "    <tr>\n",
              "      <th>2</th>\n",
              "      <td>DKI JAKARTA</td>\n",
              "      <td>KEPULAUAN SERIBU</td>\n",
              "      <td>2</td>\n",
              "      <td>1.0</td>\n",
              "      <td>Milik sendiri</td>\n",
              "      <td>Milik sendiri</td>\n",
              "      <td>TIDAK</td>\n",
              "      <td>TIDAK</td>\n",
              "      <td>TIDAK</td>\n",
              "      <td>TIDAK</td>\n",
              "      <td>...</td>\n",
              "      <td>SD/SLB</td>\n",
              "      <td>YA</td>\n",
              "      <td>Perikanan tangkap</td>\n",
              "      <td>Berusaha sendiri</td>\n",
              "      <td>NaN</td>\n",
              "      <td>NaN</td>\n",
              "      <td>NaN</td>\n",
              "      <td>1</td>\n",
              "      <td>0</td>\n",
              "      <td>0</td>\n",
              "    </tr>\n",
              "    <tr>\n",
              "      <th>3</th>\n",
              "      <td>DKI JAKARTA</td>\n",
              "      <td>KEPULAUAN SERIBU</td>\n",
              "      <td>3</td>\n",
              "      <td>1.0</td>\n",
              "      <td>Milik sendiri</td>\n",
              "      <td>Milik sendiri</td>\n",
              "      <td>TIDAK</td>\n",
              "      <td>YA</td>\n",
              "      <td>TIDAK</td>\n",
              "      <td>TIDAK</td>\n",
              "      <td>...</td>\n",
              "      <td>M. Tsanawiyah</td>\n",
              "      <td>TIDAK</td>\n",
              "      <td>NaN</td>\n",
              "      <td>NaN</td>\n",
              "      <td>NaN</td>\n",
              "      <td>NaN</td>\n",
              "      <td>NaN</td>\n",
              "      <td>0</td>\n",
              "      <td>0</td>\n",
              "      <td>0</td>\n",
              "    </tr>\n",
              "    <tr>\n",
              "      <th>4</th>\n",
              "      <td>DKI JAKARTA</td>\n",
              "      <td>KEPULAUAN SERIBU</td>\n",
              "      <td></td>\n",
              "      <td>1.0</td>\n",
              "      <td>Milik sendiri</td>\n",
              "      <td>Milik sendiri</td>\n",
              "      <td>TIDAK</td>\n",
              "      <td>TIDAK</td>\n",
              "      <td>TIDAK</td>\n",
              "      <td>TIDAK</td>\n",
              "      <td>...</td>\n",
              "      <td>NaN</td>\n",
              "      <td>TIDAK</td>\n",
              "      <td>NaN</td>\n",
              "      <td>NaN</td>\n",
              "      <td>NaN</td>\n",
              "      <td>NaN</td>\n",
              "      <td>NaN</td>\n",
              "      <td>1</td>\n",
              "      <td>0</td>\n",
              "      <td>0</td>\n",
              "    </tr>\n",
              "  </tbody>\n",
              "</table>\n",
              "<p>5 rows × 50 columns</p>\n",
              "</div>\n",
              "      <button class=\"colab-df-convert\" onclick=\"convertToInteractive('df-94d8e8f0-bd4e-4012-ab5b-63a17ef69766')\"\n",
              "              title=\"Convert this dataframe to an interactive table.\"\n",
              "              style=\"display:none;\">\n",
              "        \n",
              "  <svg xmlns=\"http://www.w3.org/2000/svg\" height=\"24px\"viewBox=\"0 0 24 24\"\n",
              "       width=\"24px\">\n",
              "    <path d=\"M0 0h24v24H0V0z\" fill=\"none\"/>\n",
              "    <path d=\"M18.56 5.44l.94 2.06.94-2.06 2.06-.94-2.06-.94-.94-2.06-.94 2.06-2.06.94zm-11 1L8.5 8.5l.94-2.06 2.06-.94-2.06-.94L8.5 2.5l-.94 2.06-2.06.94zm10 10l.94 2.06.94-2.06 2.06-.94-2.06-.94-.94-2.06-.94 2.06-2.06.94z\"/><path d=\"M17.41 7.96l-1.37-1.37c-.4-.4-.92-.59-1.43-.59-.52 0-1.04.2-1.43.59L10.3 9.45l-7.72 7.72c-.78.78-.78 2.05 0 2.83L4 21.41c.39.39.9.59 1.41.59.51 0 1.02-.2 1.41-.59l7.78-7.78 2.81-2.81c.8-.78.8-2.07 0-2.86zM5.41 20L4 18.59l7.72-7.72 1.47 1.35L5.41 20z\"/>\n",
              "  </svg>\n",
              "      </button>\n",
              "      \n",
              "  <style>\n",
              "    .colab-df-container {\n",
              "      display:flex;\n",
              "      flex-wrap:wrap;\n",
              "      gap: 12px;\n",
              "    }\n",
              "\n",
              "    .colab-df-convert {\n",
              "      background-color: #E8F0FE;\n",
              "      border: none;\n",
              "      border-radius: 50%;\n",
              "      cursor: pointer;\n",
              "      display: none;\n",
              "      fill: #1967D2;\n",
              "      height: 32px;\n",
              "      padding: 0 0 0 0;\n",
              "      width: 32px;\n",
              "    }\n",
              "\n",
              "    .colab-df-convert:hover {\n",
              "      background-color: #E2EBFA;\n",
              "      box-shadow: 0px 1px 2px rgba(60, 64, 67, 0.3), 0px 1px 3px 1px rgba(60, 64, 67, 0.15);\n",
              "      fill: #174EA6;\n",
              "    }\n",
              "\n",
              "    [theme=dark] .colab-df-convert {\n",
              "      background-color: #3B4455;\n",
              "      fill: #D2E3FC;\n",
              "    }\n",
              "\n",
              "    [theme=dark] .colab-df-convert:hover {\n",
              "      background-color: #434B5C;\n",
              "      box-shadow: 0px 1px 3px 1px rgba(0, 0, 0, 0.15);\n",
              "      filter: drop-shadow(0px 1px 2px rgba(0, 0, 0, 0.3));\n",
              "      fill: #FFFFFF;\n",
              "    }\n",
              "  </style>\n",
              "\n",
              "      <script>\n",
              "        const buttonEl =\n",
              "          document.querySelector('#df-94d8e8f0-bd4e-4012-ab5b-63a17ef69766 button.colab-df-convert');\n",
              "        buttonEl.style.display =\n",
              "          google.colab.kernel.accessAllowed ? 'block' : 'none';\n",
              "\n",
              "        async function convertToInteractive(key) {\n",
              "          const element = document.querySelector('#df-94d8e8f0-bd4e-4012-ab5b-63a17ef69766');\n",
              "          const dataTable =\n",
              "            await google.colab.kernel.invokeFunction('convertToInteractive',\n",
              "                                                     [key], {});\n",
              "          if (!dataTable) return;\n",
              "\n",
              "          const docLinkHtml = 'Like what you see? Visit the ' +\n",
              "            '<a target=\"_blank\" href=https://colab.research.google.com/notebooks/data_table.ipynb>data table notebook</a>'\n",
              "            + ' to learn more about interactive tables.';\n",
              "          element.innerHTML = '';\n",
              "          dataTable['output_type'] = 'display_data';\n",
              "          await google.colab.output.renderOutput(dataTable, element);\n",
              "          const docLink = document.createElement('div');\n",
              "          docLink.innerHTML = docLinkHtml;\n",
              "          element.appendChild(docLink);\n",
              "        }\n",
              "      </script>\n",
              "    </div>\n",
              "  </div>\n",
              "  "
            ]
          },
          "metadata": {},
          "execution_count": 7
        }
      ],
      "source": [
        "test_ta [0:5]"
      ]
    },
    {
      "cell_type": "code",
      "execution_count": null,
      "metadata": {
        "id": "V-vgT3J-yARC"
      },
      "outputs": [],
      "source": [
        "#Menghapus Kolom yang tidak digunakan\n",
        "data = test_ta.drop(['status_bangunan','status_lahan','ada_tabung_gas','ada_lemari_es','ada_ac','ada_pemanas','ada_telepon','ada_tv','ada_emas','ada_laptop','ada_sepeda','ada_motor','ada_mobil','ada_perahu','ada_motor_tempel','ada_perahu_motor','ada_kapal','aset_tak_bergerak','luas_atb','rumah_lain','jumlah_sapi','jumlah_kerbau','jumlah_kuda','jumlah_babi','jumlah_kambing','sta_art_usaha','JnsKelamin','TmpLahir','TglLahir','Hub_KRT','NUK', 'lapangan_usahaart','omset_usaha','lokasi_usaha','Lapangan_usaha','kepemilikan_kartu','Status_pekerjaan','NMPROP','NMKAB','Hubkel'], axis = 1)"
      ]
    },
    {
      "cell_type": "code",
      "execution_count": null,
      "metadata": {
        "colab": {
          "base_uri": "https://localhost:8080/",
          "height": 206
        },
        "id": "Ae9Jduq6QL7J",
        "outputId": "0e8d5393-80e9-4a70-b981-286c583da055"
      },
      "outputs": [
        {
          "output_type": "execute_result",
          "data": {
            "text/plain": [
              "  Jumlah_ART  Jumlah_Keluarga  Umur jenis_disabilitas  \\\n",
              "0          3              1.0  49.0       Tidak cacat   \n",
              "1          3              1.0  45.0       Tidak cacat   \n",
              "2          2              1.0  50.0       Tidak cacat   \n",
              "3          3              1.0  12.0       Tidak cacat   \n",
              "4                         1.0  50.0       Tidak cacat   \n",
              "\n",
              "          Partisipasi_sekolah Pendidikan_tertinggi Sta_Bekerja  ada_PKH  \\\n",
              "0       Tidak bersekolah lagi               SD/SLB          YA        0   \n",
              "1       Tidak bersekolah lagi            SMP/SMPLB          YA        0   \n",
              "2       Tidak bersekolah lagi               SD/SLB          YA        1   \n",
              "3               Masih sekolah        M. Tsanawiyah       TIDAK        0   \n",
              "4  Tidak/belum pernah sekolah                  NaN       TIDAK        1   \n",
              "\n",
              "   ada_KKS  ada_kip  \n",
              "0        0        0  \n",
              "1        0        0  \n",
              "2        0        0  \n",
              "3        0        0  \n",
              "4        0        0  "
            ],
            "text/html": [
              "\n",
              "  <div id=\"df-5df1d5ef-eb20-45da-9252-7443a9284043\">\n",
              "    <div class=\"colab-df-container\">\n",
              "      <div>\n",
              "<style scoped>\n",
              "    .dataframe tbody tr th:only-of-type {\n",
              "        vertical-align: middle;\n",
              "    }\n",
              "\n",
              "    .dataframe tbody tr th {\n",
              "        vertical-align: top;\n",
              "    }\n",
              "\n",
              "    .dataframe thead th {\n",
              "        text-align: right;\n",
              "    }\n",
              "</style>\n",
              "<table border=\"1\" class=\"dataframe\">\n",
              "  <thead>\n",
              "    <tr style=\"text-align: right;\">\n",
              "      <th></th>\n",
              "      <th>Jumlah_ART</th>\n",
              "      <th>Jumlah_Keluarga</th>\n",
              "      <th>Umur</th>\n",
              "      <th>jenis_disabilitas</th>\n",
              "      <th>Partisipasi_sekolah</th>\n",
              "      <th>Pendidikan_tertinggi</th>\n",
              "      <th>Sta_Bekerja</th>\n",
              "      <th>ada_PKH</th>\n",
              "      <th>ada_KKS</th>\n",
              "      <th>ada_kip</th>\n",
              "    </tr>\n",
              "  </thead>\n",
              "  <tbody>\n",
              "    <tr>\n",
              "      <th>0</th>\n",
              "      <td>3</td>\n",
              "      <td>1.0</td>\n",
              "      <td>49.0</td>\n",
              "      <td>Tidak cacat</td>\n",
              "      <td>Tidak bersekolah lagi</td>\n",
              "      <td>SD/SLB</td>\n",
              "      <td>YA</td>\n",
              "      <td>0</td>\n",
              "      <td>0</td>\n",
              "      <td>0</td>\n",
              "    </tr>\n",
              "    <tr>\n",
              "      <th>1</th>\n",
              "      <td>3</td>\n",
              "      <td>1.0</td>\n",
              "      <td>45.0</td>\n",
              "      <td>Tidak cacat</td>\n",
              "      <td>Tidak bersekolah lagi</td>\n",
              "      <td>SMP/SMPLB</td>\n",
              "      <td>YA</td>\n",
              "      <td>0</td>\n",
              "      <td>0</td>\n",
              "      <td>0</td>\n",
              "    </tr>\n",
              "    <tr>\n",
              "      <th>2</th>\n",
              "      <td>2</td>\n",
              "      <td>1.0</td>\n",
              "      <td>50.0</td>\n",
              "      <td>Tidak cacat</td>\n",
              "      <td>Tidak bersekolah lagi</td>\n",
              "      <td>SD/SLB</td>\n",
              "      <td>YA</td>\n",
              "      <td>1</td>\n",
              "      <td>0</td>\n",
              "      <td>0</td>\n",
              "    </tr>\n",
              "    <tr>\n",
              "      <th>3</th>\n",
              "      <td>3</td>\n",
              "      <td>1.0</td>\n",
              "      <td>12.0</td>\n",
              "      <td>Tidak cacat</td>\n",
              "      <td>Masih sekolah</td>\n",
              "      <td>M. Tsanawiyah</td>\n",
              "      <td>TIDAK</td>\n",
              "      <td>0</td>\n",
              "      <td>0</td>\n",
              "      <td>0</td>\n",
              "    </tr>\n",
              "    <tr>\n",
              "      <th>4</th>\n",
              "      <td></td>\n",
              "      <td>1.0</td>\n",
              "      <td>50.0</td>\n",
              "      <td>Tidak cacat</td>\n",
              "      <td>Tidak/belum pernah sekolah</td>\n",
              "      <td>NaN</td>\n",
              "      <td>TIDAK</td>\n",
              "      <td>1</td>\n",
              "      <td>0</td>\n",
              "      <td>0</td>\n",
              "    </tr>\n",
              "  </tbody>\n",
              "</table>\n",
              "</div>\n",
              "      <button class=\"colab-df-convert\" onclick=\"convertToInteractive('df-5df1d5ef-eb20-45da-9252-7443a9284043')\"\n",
              "              title=\"Convert this dataframe to an interactive table.\"\n",
              "              style=\"display:none;\">\n",
              "        \n",
              "  <svg xmlns=\"http://www.w3.org/2000/svg\" height=\"24px\"viewBox=\"0 0 24 24\"\n",
              "       width=\"24px\">\n",
              "    <path d=\"M0 0h24v24H0V0z\" fill=\"none\"/>\n",
              "    <path d=\"M18.56 5.44l.94 2.06.94-2.06 2.06-.94-2.06-.94-.94-2.06-.94 2.06-2.06.94zm-11 1L8.5 8.5l.94-2.06 2.06-.94-2.06-.94L8.5 2.5l-.94 2.06-2.06.94zm10 10l.94 2.06.94-2.06 2.06-.94-2.06-.94-.94-2.06-.94 2.06-2.06.94z\"/><path d=\"M17.41 7.96l-1.37-1.37c-.4-.4-.92-.59-1.43-.59-.52 0-1.04.2-1.43.59L10.3 9.45l-7.72 7.72c-.78.78-.78 2.05 0 2.83L4 21.41c.39.39.9.59 1.41.59.51 0 1.02-.2 1.41-.59l7.78-7.78 2.81-2.81c.8-.78.8-2.07 0-2.86zM5.41 20L4 18.59l7.72-7.72 1.47 1.35L5.41 20z\"/>\n",
              "  </svg>\n",
              "      </button>\n",
              "      \n",
              "  <style>\n",
              "    .colab-df-container {\n",
              "      display:flex;\n",
              "      flex-wrap:wrap;\n",
              "      gap: 12px;\n",
              "    }\n",
              "\n",
              "    .colab-df-convert {\n",
              "      background-color: #E8F0FE;\n",
              "      border: none;\n",
              "      border-radius: 50%;\n",
              "      cursor: pointer;\n",
              "      display: none;\n",
              "      fill: #1967D2;\n",
              "      height: 32px;\n",
              "      padding: 0 0 0 0;\n",
              "      width: 32px;\n",
              "    }\n",
              "\n",
              "    .colab-df-convert:hover {\n",
              "      background-color: #E2EBFA;\n",
              "      box-shadow: 0px 1px 2px rgba(60, 64, 67, 0.3), 0px 1px 3px 1px rgba(60, 64, 67, 0.15);\n",
              "      fill: #174EA6;\n",
              "    }\n",
              "\n",
              "    [theme=dark] .colab-df-convert {\n",
              "      background-color: #3B4455;\n",
              "      fill: #D2E3FC;\n",
              "    }\n",
              "\n",
              "    [theme=dark] .colab-df-convert:hover {\n",
              "      background-color: #434B5C;\n",
              "      box-shadow: 0px 1px 3px 1px rgba(0, 0, 0, 0.15);\n",
              "      filter: drop-shadow(0px 1px 2px rgba(0, 0, 0, 0.3));\n",
              "      fill: #FFFFFF;\n",
              "    }\n",
              "  </style>\n",
              "\n",
              "      <script>\n",
              "        const buttonEl =\n",
              "          document.querySelector('#df-5df1d5ef-eb20-45da-9252-7443a9284043 button.colab-df-convert');\n",
              "        buttonEl.style.display =\n",
              "          google.colab.kernel.accessAllowed ? 'block' : 'none';\n",
              "\n",
              "        async function convertToInteractive(key) {\n",
              "          const element = document.querySelector('#df-5df1d5ef-eb20-45da-9252-7443a9284043');\n",
              "          const dataTable =\n",
              "            await google.colab.kernel.invokeFunction('convertToInteractive',\n",
              "                                                     [key], {});\n",
              "          if (!dataTable) return;\n",
              "\n",
              "          const docLinkHtml = 'Like what you see? Visit the ' +\n",
              "            '<a target=\"_blank\" href=https://colab.research.google.com/notebooks/data_table.ipynb>data table notebook</a>'\n",
              "            + ' to learn more about interactive tables.';\n",
              "          element.innerHTML = '';\n",
              "          dataTable['output_type'] = 'display_data';\n",
              "          await google.colab.output.renderOutput(dataTable, element);\n",
              "          const docLink = document.createElement('div');\n",
              "          docLink.innerHTML = docLinkHtml;\n",
              "          element.appendChild(docLink);\n",
              "        }\n",
              "      </script>\n",
              "    </div>\n",
              "  </div>\n",
              "  "
            ]
          },
          "metadata": {},
          "execution_count": 9
        }
      ],
      "source": [
        "data [0:5]"
      ]
    },
    {
      "cell_type": "code",
      "execution_count": null,
      "metadata": {
        "colab": {
          "base_uri": "https://localhost:8080/"
        },
        "id": "pYbggdkvFI6f",
        "outputId": "b8b48d8a-5de8-471a-b1c9-aa63ee64a453"
      },
      "outputs": [
        {
          "output_type": "execute_result",
          "data": {
            "text/plain": [
              "(250000, 10)"
            ]
          },
          "metadata": {},
          "execution_count": 10
        }
      ],
      "source": [
        "data.shape"
      ]
    },
    {
      "cell_type": "code",
      "execution_count": null,
      "metadata": {
        "colab": {
          "base_uri": "https://localhost:8080/"
        },
        "id": "becddnRh5qhK",
        "outputId": "8ce6a139-b9e6-406d-f5d6-e715124a80b0"
      },
      "outputs": [
        {
          "output_type": "execute_result",
          "data": {
            "text/plain": [
              "Jumlah_ART                  0\n",
              "Jumlah_Keluarga             9\n",
              "Umur                       47\n",
              "jenis_disabilitas        8212\n",
              "Partisipasi_sekolah     18025\n",
              "Pendidikan_tertinggi    31987\n",
              "Sta_Bekerja             18528\n",
              "ada_PKH                     0\n",
              "ada_KKS                     0\n",
              "ada_kip                     0\n",
              "dtype: int64"
            ]
          },
          "metadata": {},
          "execution_count": 11
        }
      ],
      "source": [
        "data.isnull().sum()"
      ]
    },
    {
      "cell_type": "code",
      "execution_count": null,
      "metadata": {
        "colab": {
          "base_uri": "https://localhost:8080/"
        },
        "id": "lEpUebmAEgqA",
        "outputId": "3d422e62-3e1b-4994-e026-414a7c04d458"
      },
      "outputs": [
        {
          "output_type": "execute_result",
          "data": {
            "text/plain": [
              "Jumlah_ART              0\n",
              "Jumlah_Keluarga         0\n",
              "Umur                    0\n",
              "jenis_disabilitas       0\n",
              "Partisipasi_sekolah     0\n",
              "Pendidikan_tertinggi    0\n",
              "Sta_Bekerja             0\n",
              "ada_PKH                 0\n",
              "ada_KKS                 0\n",
              "ada_kip                 0\n",
              "dtype: int64"
            ]
          },
          "metadata": {},
          "execution_count": 12
        }
      ],
      "source": [
        "#Menghapus baris data yang kosong\n",
        "data.dropna(inplace=True)\n",
        "data.isnull().sum()"
      ]
    },
    {
      "cell_type": "code",
      "execution_count": null,
      "metadata": {
        "colab": {
          "base_uri": "https://localhost:8080/"
        },
        "id": "mmDOD-pwnHcz",
        "outputId": "b72f036e-af21-43e9-cb59-11576c669b8a"
      },
      "outputs": [
        {
          "output_type": "execute_result",
          "data": {
            "text/plain": [
              "(218009, 10)"
            ]
          },
          "metadata": {},
          "execution_count": 13
        }
      ],
      "source": [
        "data.shape"
      ]
    },
    {
      "cell_type": "code",
      "execution_count": null,
      "metadata": {
        "id": "kaiw4jEgSHFx"
      },
      "outputs": [],
      "source": [
        "#menentukan variabel independen mempengaruhi\n",
        "data1 = data[['Jumlah_ART', 'Jumlah_Keluarga', 'Umur', 'jenis_disabilitas','Partisipasi_sekolah','Pendidikan_tertinggi','Sta_Bekerja','ada_PKH','ada_KKS']]"
      ]
    },
    {
      "cell_type": "code",
      "execution_count": null,
      "metadata": {
        "colab": {
          "base_uri": "https://localhost:8080/",
          "height": 206
        },
        "id": "xX5fhaU693or",
        "outputId": "791450aa-5ba9-4be4-ac5c-92a35a0c8203"
      },
      "outputs": [
        {
          "output_type": "execute_result",
          "data": {
            "text/plain": [
              "  Jumlah_ART  Jumlah_Keluarga  Umur jenis_disabilitas    Partisipasi_sekolah  \\\n",
              "0          3              1.0  49.0       Tidak cacat  Tidak bersekolah lagi   \n",
              "1          3              1.0  45.0       Tidak cacat  Tidak bersekolah lagi   \n",
              "2          2              1.0  50.0       Tidak cacat  Tidak bersekolah lagi   \n",
              "3          3              1.0  12.0       Tidak cacat          Masih sekolah   \n",
              "5          1              1.0  52.0       Tidak cacat  Tidak bersekolah lagi   \n",
              "\n",
              "  Pendidikan_tertinggi Sta_Bekerja  ada_PKH  ada_KKS  \n",
              "0               SD/SLB          YA        0        0  \n",
              "1            SMP/SMPLB          YA        0        0  \n",
              "2               SD/SLB          YA        1        0  \n",
              "3        M. Tsanawiyah       TIDAK        0        0  \n",
              "5               SD/SLB          YA        0        0  "
            ],
            "text/html": [
              "\n",
              "  <div id=\"df-893f213c-1d04-4d11-a260-837e38d444f8\">\n",
              "    <div class=\"colab-df-container\">\n",
              "      <div>\n",
              "<style scoped>\n",
              "    .dataframe tbody tr th:only-of-type {\n",
              "        vertical-align: middle;\n",
              "    }\n",
              "\n",
              "    .dataframe tbody tr th {\n",
              "        vertical-align: top;\n",
              "    }\n",
              "\n",
              "    .dataframe thead th {\n",
              "        text-align: right;\n",
              "    }\n",
              "</style>\n",
              "<table border=\"1\" class=\"dataframe\">\n",
              "  <thead>\n",
              "    <tr style=\"text-align: right;\">\n",
              "      <th></th>\n",
              "      <th>Jumlah_ART</th>\n",
              "      <th>Jumlah_Keluarga</th>\n",
              "      <th>Umur</th>\n",
              "      <th>jenis_disabilitas</th>\n",
              "      <th>Partisipasi_sekolah</th>\n",
              "      <th>Pendidikan_tertinggi</th>\n",
              "      <th>Sta_Bekerja</th>\n",
              "      <th>ada_PKH</th>\n",
              "      <th>ada_KKS</th>\n",
              "    </tr>\n",
              "  </thead>\n",
              "  <tbody>\n",
              "    <tr>\n",
              "      <th>0</th>\n",
              "      <td>3</td>\n",
              "      <td>1.0</td>\n",
              "      <td>49.0</td>\n",
              "      <td>Tidak cacat</td>\n",
              "      <td>Tidak bersekolah lagi</td>\n",
              "      <td>SD/SLB</td>\n",
              "      <td>YA</td>\n",
              "      <td>0</td>\n",
              "      <td>0</td>\n",
              "    </tr>\n",
              "    <tr>\n",
              "      <th>1</th>\n",
              "      <td>3</td>\n",
              "      <td>1.0</td>\n",
              "      <td>45.0</td>\n",
              "      <td>Tidak cacat</td>\n",
              "      <td>Tidak bersekolah lagi</td>\n",
              "      <td>SMP/SMPLB</td>\n",
              "      <td>YA</td>\n",
              "      <td>0</td>\n",
              "      <td>0</td>\n",
              "    </tr>\n",
              "    <tr>\n",
              "      <th>2</th>\n",
              "      <td>2</td>\n",
              "      <td>1.0</td>\n",
              "      <td>50.0</td>\n",
              "      <td>Tidak cacat</td>\n",
              "      <td>Tidak bersekolah lagi</td>\n",
              "      <td>SD/SLB</td>\n",
              "      <td>YA</td>\n",
              "      <td>1</td>\n",
              "      <td>0</td>\n",
              "    </tr>\n",
              "    <tr>\n",
              "      <th>3</th>\n",
              "      <td>3</td>\n",
              "      <td>1.0</td>\n",
              "      <td>12.0</td>\n",
              "      <td>Tidak cacat</td>\n",
              "      <td>Masih sekolah</td>\n",
              "      <td>M. Tsanawiyah</td>\n",
              "      <td>TIDAK</td>\n",
              "      <td>0</td>\n",
              "      <td>0</td>\n",
              "    </tr>\n",
              "    <tr>\n",
              "      <th>5</th>\n",
              "      <td>1</td>\n",
              "      <td>1.0</td>\n",
              "      <td>52.0</td>\n",
              "      <td>Tidak cacat</td>\n",
              "      <td>Tidak bersekolah lagi</td>\n",
              "      <td>SD/SLB</td>\n",
              "      <td>YA</td>\n",
              "      <td>0</td>\n",
              "      <td>0</td>\n",
              "    </tr>\n",
              "  </tbody>\n",
              "</table>\n",
              "</div>\n",
              "      <button class=\"colab-df-convert\" onclick=\"convertToInteractive('df-893f213c-1d04-4d11-a260-837e38d444f8')\"\n",
              "              title=\"Convert this dataframe to an interactive table.\"\n",
              "              style=\"display:none;\">\n",
              "        \n",
              "  <svg xmlns=\"http://www.w3.org/2000/svg\" height=\"24px\"viewBox=\"0 0 24 24\"\n",
              "       width=\"24px\">\n",
              "    <path d=\"M0 0h24v24H0V0z\" fill=\"none\"/>\n",
              "    <path d=\"M18.56 5.44l.94 2.06.94-2.06 2.06-.94-2.06-.94-.94-2.06-.94 2.06-2.06.94zm-11 1L8.5 8.5l.94-2.06 2.06-.94-2.06-.94L8.5 2.5l-.94 2.06-2.06.94zm10 10l.94 2.06.94-2.06 2.06-.94-2.06-.94-.94-2.06-.94 2.06-2.06.94z\"/><path d=\"M17.41 7.96l-1.37-1.37c-.4-.4-.92-.59-1.43-.59-.52 0-1.04.2-1.43.59L10.3 9.45l-7.72 7.72c-.78.78-.78 2.05 0 2.83L4 21.41c.39.39.9.59 1.41.59.51 0 1.02-.2 1.41-.59l7.78-7.78 2.81-2.81c.8-.78.8-2.07 0-2.86zM5.41 20L4 18.59l7.72-7.72 1.47 1.35L5.41 20z\"/>\n",
              "  </svg>\n",
              "      </button>\n",
              "      \n",
              "  <style>\n",
              "    .colab-df-container {\n",
              "      display:flex;\n",
              "      flex-wrap:wrap;\n",
              "      gap: 12px;\n",
              "    }\n",
              "\n",
              "    .colab-df-convert {\n",
              "      background-color: #E8F0FE;\n",
              "      border: none;\n",
              "      border-radius: 50%;\n",
              "      cursor: pointer;\n",
              "      display: none;\n",
              "      fill: #1967D2;\n",
              "      height: 32px;\n",
              "      padding: 0 0 0 0;\n",
              "      width: 32px;\n",
              "    }\n",
              "\n",
              "    .colab-df-convert:hover {\n",
              "      background-color: #E2EBFA;\n",
              "      box-shadow: 0px 1px 2px rgba(60, 64, 67, 0.3), 0px 1px 3px 1px rgba(60, 64, 67, 0.15);\n",
              "      fill: #174EA6;\n",
              "    }\n",
              "\n",
              "    [theme=dark] .colab-df-convert {\n",
              "      background-color: #3B4455;\n",
              "      fill: #D2E3FC;\n",
              "    }\n",
              "\n",
              "    [theme=dark] .colab-df-convert:hover {\n",
              "      background-color: #434B5C;\n",
              "      box-shadow: 0px 1px 3px 1px rgba(0, 0, 0, 0.15);\n",
              "      filter: drop-shadow(0px 1px 2px rgba(0, 0, 0, 0.3));\n",
              "      fill: #FFFFFF;\n",
              "    }\n",
              "  </style>\n",
              "\n",
              "      <script>\n",
              "        const buttonEl =\n",
              "          document.querySelector('#df-893f213c-1d04-4d11-a260-837e38d444f8 button.colab-df-convert');\n",
              "        buttonEl.style.display =\n",
              "          google.colab.kernel.accessAllowed ? 'block' : 'none';\n",
              "\n",
              "        async function convertToInteractive(key) {\n",
              "          const element = document.querySelector('#df-893f213c-1d04-4d11-a260-837e38d444f8');\n",
              "          const dataTable =\n",
              "            await google.colab.kernel.invokeFunction('convertToInteractive',\n",
              "                                                     [key], {});\n",
              "          if (!dataTable) return;\n",
              "\n",
              "          const docLinkHtml = 'Like what you see? Visit the ' +\n",
              "            '<a target=\"_blank\" href=https://colab.research.google.com/notebooks/data_table.ipynb>data table notebook</a>'\n",
              "            + ' to learn more about interactive tables.';\n",
              "          element.innerHTML = '';\n",
              "          dataTable['output_type'] = 'display_data';\n",
              "          await google.colab.output.renderOutput(dataTable, element);\n",
              "          const docLink = document.createElement('div');\n",
              "          docLink.innerHTML = docLinkHtml;\n",
              "          element.appendChild(docLink);\n",
              "        }\n",
              "      </script>\n",
              "    </div>\n",
              "  </div>\n",
              "  "
            ]
          },
          "metadata": {},
          "execution_count": 15
        }
      ],
      "source": [
        "data1.head()"
      ]
    },
    {
      "cell_type": "code",
      "execution_count": null,
      "metadata": {
        "colab": {
          "base_uri": "https://localhost:8080/",
          "height": 175
        },
        "id": "-aYLXvtCzqCC",
        "outputId": "61a96df5-70ea-44d3-f5b8-a1988d97419a"
      },
      "outputs": [
        {
          "output_type": "execute_result",
          "data": {
            "text/plain": [
              "        Jumlah_ART jenis_disabilitas    Partisipasi_sekolah  \\\n",
              "count       218009            218009                 218009   \n",
              "unique          20                13                      2   \n",
              "top              4       Tidak cacat  Tidak bersekolah lagi   \n",
              "freq         60836            215898                 163072   \n",
              "\n",
              "       Pendidikan_tertinggi Sta_Bekerja  \n",
              "count                218009      218009  \n",
              "unique                   10           2  \n",
              "top                  SD/SLB       TIDAK  \n",
              "freq                  82900      132976  "
            ],
            "text/html": [
              "\n",
              "  <div id=\"df-4611d587-656e-49bd-bae7-2e6a7788813b\">\n",
              "    <div class=\"colab-df-container\">\n",
              "      <div>\n",
              "<style scoped>\n",
              "    .dataframe tbody tr th:only-of-type {\n",
              "        vertical-align: middle;\n",
              "    }\n",
              "\n",
              "    .dataframe tbody tr th {\n",
              "        vertical-align: top;\n",
              "    }\n",
              "\n",
              "    .dataframe thead th {\n",
              "        text-align: right;\n",
              "    }\n",
              "</style>\n",
              "<table border=\"1\" class=\"dataframe\">\n",
              "  <thead>\n",
              "    <tr style=\"text-align: right;\">\n",
              "      <th></th>\n",
              "      <th>Jumlah_ART</th>\n",
              "      <th>jenis_disabilitas</th>\n",
              "      <th>Partisipasi_sekolah</th>\n",
              "      <th>Pendidikan_tertinggi</th>\n",
              "      <th>Sta_Bekerja</th>\n",
              "    </tr>\n",
              "  </thead>\n",
              "  <tbody>\n",
              "    <tr>\n",
              "      <th>count</th>\n",
              "      <td>218009</td>\n",
              "      <td>218009</td>\n",
              "      <td>218009</td>\n",
              "      <td>218009</td>\n",
              "      <td>218009</td>\n",
              "    </tr>\n",
              "    <tr>\n",
              "      <th>unique</th>\n",
              "      <td>20</td>\n",
              "      <td>13</td>\n",
              "      <td>2</td>\n",
              "      <td>10</td>\n",
              "      <td>2</td>\n",
              "    </tr>\n",
              "    <tr>\n",
              "      <th>top</th>\n",
              "      <td>4</td>\n",
              "      <td>Tidak cacat</td>\n",
              "      <td>Tidak bersekolah lagi</td>\n",
              "      <td>SD/SLB</td>\n",
              "      <td>TIDAK</td>\n",
              "    </tr>\n",
              "    <tr>\n",
              "      <th>freq</th>\n",
              "      <td>60836</td>\n",
              "      <td>215898</td>\n",
              "      <td>163072</td>\n",
              "      <td>82900</td>\n",
              "      <td>132976</td>\n",
              "    </tr>\n",
              "  </tbody>\n",
              "</table>\n",
              "</div>\n",
              "      <button class=\"colab-df-convert\" onclick=\"convertToInteractive('df-4611d587-656e-49bd-bae7-2e6a7788813b')\"\n",
              "              title=\"Convert this dataframe to an interactive table.\"\n",
              "              style=\"display:none;\">\n",
              "        \n",
              "  <svg xmlns=\"http://www.w3.org/2000/svg\" height=\"24px\"viewBox=\"0 0 24 24\"\n",
              "       width=\"24px\">\n",
              "    <path d=\"M0 0h24v24H0V0z\" fill=\"none\"/>\n",
              "    <path d=\"M18.56 5.44l.94 2.06.94-2.06 2.06-.94-2.06-.94-.94-2.06-.94 2.06-2.06.94zm-11 1L8.5 8.5l.94-2.06 2.06-.94-2.06-.94L8.5 2.5l-.94 2.06-2.06.94zm10 10l.94 2.06.94-2.06 2.06-.94-2.06-.94-.94-2.06-.94 2.06-2.06.94z\"/><path d=\"M17.41 7.96l-1.37-1.37c-.4-.4-.92-.59-1.43-.59-.52 0-1.04.2-1.43.59L10.3 9.45l-7.72 7.72c-.78.78-.78 2.05 0 2.83L4 21.41c.39.39.9.59 1.41.59.51 0 1.02-.2 1.41-.59l7.78-7.78 2.81-2.81c.8-.78.8-2.07 0-2.86zM5.41 20L4 18.59l7.72-7.72 1.47 1.35L5.41 20z\"/>\n",
              "  </svg>\n",
              "      </button>\n",
              "      \n",
              "  <style>\n",
              "    .colab-df-container {\n",
              "      display:flex;\n",
              "      flex-wrap:wrap;\n",
              "      gap: 12px;\n",
              "    }\n",
              "\n",
              "    .colab-df-convert {\n",
              "      background-color: #E8F0FE;\n",
              "      border: none;\n",
              "      border-radius: 50%;\n",
              "      cursor: pointer;\n",
              "      display: none;\n",
              "      fill: #1967D2;\n",
              "      height: 32px;\n",
              "      padding: 0 0 0 0;\n",
              "      width: 32px;\n",
              "    }\n",
              "\n",
              "    .colab-df-convert:hover {\n",
              "      background-color: #E2EBFA;\n",
              "      box-shadow: 0px 1px 2px rgba(60, 64, 67, 0.3), 0px 1px 3px 1px rgba(60, 64, 67, 0.15);\n",
              "      fill: #174EA6;\n",
              "    }\n",
              "\n",
              "    [theme=dark] .colab-df-convert {\n",
              "      background-color: #3B4455;\n",
              "      fill: #D2E3FC;\n",
              "    }\n",
              "\n",
              "    [theme=dark] .colab-df-convert:hover {\n",
              "      background-color: #434B5C;\n",
              "      box-shadow: 0px 1px 3px 1px rgba(0, 0, 0, 0.15);\n",
              "      filter: drop-shadow(0px 1px 2px rgba(0, 0, 0, 0.3));\n",
              "      fill: #FFFFFF;\n",
              "    }\n",
              "  </style>\n",
              "\n",
              "      <script>\n",
              "        const buttonEl =\n",
              "          document.querySelector('#df-4611d587-656e-49bd-bae7-2e6a7788813b button.colab-df-convert');\n",
              "        buttonEl.style.display =\n",
              "          google.colab.kernel.accessAllowed ? 'block' : 'none';\n",
              "\n",
              "        async function convertToInteractive(key) {\n",
              "          const element = document.querySelector('#df-4611d587-656e-49bd-bae7-2e6a7788813b');\n",
              "          const dataTable =\n",
              "            await google.colab.kernel.invokeFunction('convertToInteractive',\n",
              "                                                     [key], {});\n",
              "          if (!dataTable) return;\n",
              "\n",
              "          const docLinkHtml = 'Like what you see? Visit the ' +\n",
              "            '<a target=\"_blank\" href=https://colab.research.google.com/notebooks/data_table.ipynb>data table notebook</a>'\n",
              "            + ' to learn more about interactive tables.';\n",
              "          element.innerHTML = '';\n",
              "          dataTable['output_type'] = 'display_data';\n",
              "          await google.colab.output.renderOutput(dataTable, element);\n",
              "          const docLink = document.createElement('div');\n",
              "          docLink.innerHTML = docLinkHtml;\n",
              "          element.appendChild(docLink);\n",
              "        }\n",
              "      </script>\n",
              "    </div>\n",
              "  </div>\n",
              "  "
            ]
          },
          "metadata": {},
          "execution_count": 16
        }
      ],
      "source": [
        "import numpy as np\n",
        "data1.describe() # Untuk fitur numerik (atau continous)\n",
        "data1.describe(exclude = np.number) # Untuk fitur kategorik"
      ]
    },
    {
      "cell_type": "code",
      "execution_count": null,
      "metadata": {
        "colab": {
          "base_uri": "https://localhost:8080/"
        },
        "id": "mbM8wkOx1zWH",
        "outputId": "185490f1-78f7-4943-efc8-0c7ed32a9a01"
      },
      "outputs": [
        {
          "output_type": "stream",
          "name": "stderr",
          "text": [
            "<ipython-input-17-325ee82df6e1>:8: SettingWithCopyWarning: \n",
            "A value is trying to be set on a copy of a slice from a DataFrame\n",
            "\n",
            "See the caveats in the documentation: https://pandas.pydata.org/pandas-docs/stable/user_guide/indexing.html#returning-a-view-versus-a-copy\n",
            "  data1['Partisipasi_sekolah'].replace(label, inplace=True)\n"
          ]
        }
      ],
      "source": [
        "#Membuat Labelling\n",
        "label = {\n",
        "    'Tidak/belum pernah sekolah':1,\n",
        "    'Tidak bersekolah lagi':2,\n",
        "    'Masih sekolah':3\n",
        "}\n",
        "\n",
        "data1['Partisipasi_sekolah'].replace(label, inplace=True)"
      ]
    },
    {
      "cell_type": "code",
      "execution_count": null,
      "metadata": {
        "colab": {
          "base_uri": "https://localhost:8080/"
        },
        "id": "fpW1mzsGFvT5",
        "outputId": "1742f0f6-29e0-4d31-d081-79937a0010a0"
      },
      "outputs": [
        {
          "output_type": "execute_result",
          "data": {
            "text/plain": [
              "array(['YA', 'TIDAK'], dtype=object)"
            ]
          },
          "metadata": {},
          "execution_count": 18
        }
      ],
      "source": [
        "#Cek Unique Values\n",
        "data[\"Sta_Bekerja\"].unique()"
      ]
    },
    {
      "cell_type": "code",
      "execution_count": null,
      "metadata": {
        "colab": {
          "base_uri": "https://localhost:8080/"
        },
        "id": "39S4smnbLVZN",
        "outputId": "d4e8dddf-3edb-4287-9843-f776151c4c17"
      },
      "outputs": [
        {
          "output_type": "stream",
          "name": "stderr",
          "text": [
            "<ipython-input-19-6316e2b420a4>:6: SettingWithCopyWarning: \n",
            "A value is trying to be set on a copy of a slice from a DataFrame\n",
            "\n",
            "See the caveats in the documentation: https://pandas.pydata.org/pandas-docs/stable/user_guide/indexing.html#returning-a-view-versus-a-copy\n",
            "  data1['Sta_Bekerja'].replace(label, inplace =True)\n"
          ]
        }
      ],
      "source": [
        "#Membuat Labeling\n",
        "label = {\n",
        "    'YA':1,\n",
        "    'TIDAK':0\n",
        "}\n",
        "data1['Sta_Bekerja'].replace(label, inplace =True)"
      ]
    },
    {
      "cell_type": "code",
      "execution_count": null,
      "metadata": {
        "colab": {
          "base_uri": "https://localhost:8080/"
        },
        "id": "_at31ITXniiz",
        "outputId": "287ba6ad-27f1-47c0-c97a-59bed0f48e07"
      },
      "outputs": [
        {
          "output_type": "stream",
          "name": "stderr",
          "text": [
            "<ipython-input-20-e7a0a4144a08>:18: SettingWithCopyWarning: \n",
            "A value is trying to be set on a copy of a slice from a DataFrame\n",
            "\n",
            "See the caveats in the documentation: https://pandas.pydata.org/pandas-docs/stable/user_guide/indexing.html#returning-a-view-versus-a-copy\n",
            "  data1['jenis_disabilitas'].replace(label, inplace=True)\n"
          ]
        }
      ],
      "source": [
        "#Membuat Labelling\n",
        "label = {\n",
        "    'Tidak cacat':0, \n",
        "    'Tuna netra & cacat tubuh':1, \n",
        "    'Tuna rungu':1,\n",
        "       'Tuna rungu, wicara, netra & cacat tubuh':1,\n",
        "        'Cacat fisik & mental':1,\n",
        "       'Tuna daksa/cacat tubuh':1,\n",
        "        'Tuna rungu, wicara & cacat tubuh':1,\n",
        "       'Cacat mental retardasi':1,\n",
        "        'Tuna netra/buta':1,\n",
        "       'Mantan penderita gangguan jiwa':0,\n",
        "        'Tuna wicara':1,\n",
        "       'Tuna rungu & wicara':1,\n",
        "        'Tuna netra, rungu & wicara':1\n",
        "}\n",
        "\n",
        "data1['jenis_disabilitas'].replace(label, inplace=True)"
      ]
    },
    {
      "cell_type": "code",
      "execution_count": null,
      "metadata": {
        "colab": {
          "base_uri": "https://localhost:8080/"
        },
        "id": "jdHVhTToG4hC",
        "outputId": "258916fe-6007-4175-c1f8-71ae78788399"
      },
      "outputs": [
        {
          "output_type": "stream",
          "name": "stderr",
          "text": [
            "<ipython-input-21-a2cd12e2cc38>:16: SettingWithCopyWarning: \n",
            "A value is trying to be set on a copy of a slice from a DataFrame\n",
            "\n",
            "See the caveats in the documentation: https://pandas.pydata.org/pandas-docs/stable/user_guide/indexing.html#returning-a-view-versus-a-copy\n",
            "  data1['Pendidikan_tertinggi'].replace(label, inplace=True)\n"
          ]
        }
      ],
      "source": [
        "#Membuat Labelling\n",
        "label = {\n",
        "    'SD/SLB':1,\n",
        "    'Paket A':1,\n",
        "    'M. Ibtidaiyah':1,\n",
        "    'SMP/SMPLB':2,\n",
        "    'Paket B':2,\n",
        "    'M. Tsanawiyah':2,\n",
        "    'M. Aliyah':3,\n",
        "    'SMA/SMK/SMALB':3,\n",
        "    'Paket C':3,\n",
        "    'Perguruan Tinggi':4\n",
        "\n",
        "}\n",
        "\n",
        "data1['Pendidikan_tertinggi'].replace(label, inplace=True)"
      ]
    },
    {
      "cell_type": "code",
      "execution_count": null,
      "metadata": {
        "id": "pHopLA1AHAAN"
      },
      "outputs": [],
      "source": [
        "# #Mengubah set data diskrit menjadi dummy\n",
        "# data1 = pd.get_dummies(data)"
      ]
    },
    {
      "cell_type": "code",
      "execution_count": null,
      "metadata": {
        "colab": {
          "base_uri": "https://localhost:8080/",
          "height": 206
        },
        "id": "17jrkSEuICoi",
        "outputId": "3201f484-8b47-4c30-c6e1-4f837fc398cf"
      },
      "outputs": [
        {
          "output_type": "execute_result",
          "data": {
            "text/plain": [
              "  Jumlah_ART  Jumlah_Keluarga  Umur  jenis_disabilitas  Partisipasi_sekolah  \\\n",
              "0          3              1.0  49.0                  0                    2   \n",
              "1          3              1.0  45.0                  0                    2   \n",
              "2          2              1.0  50.0                  0                    2   \n",
              "3          3              1.0  12.0                  0                    3   \n",
              "5          1              1.0  52.0                  0                    2   \n",
              "\n",
              "   Pendidikan_tertinggi  Sta_Bekerja  ada_PKH  ada_KKS  \n",
              "0                     1            1        0        0  \n",
              "1                     2            1        0        0  \n",
              "2                     1            1        1        0  \n",
              "3                     2            0        0        0  \n",
              "5                     1            1        0        0  "
            ],
            "text/html": [
              "\n",
              "  <div id=\"df-8ed7f0a1-f21a-4a2b-92c2-552e2650cb31\">\n",
              "    <div class=\"colab-df-container\">\n",
              "      <div>\n",
              "<style scoped>\n",
              "    .dataframe tbody tr th:only-of-type {\n",
              "        vertical-align: middle;\n",
              "    }\n",
              "\n",
              "    .dataframe tbody tr th {\n",
              "        vertical-align: top;\n",
              "    }\n",
              "\n",
              "    .dataframe thead th {\n",
              "        text-align: right;\n",
              "    }\n",
              "</style>\n",
              "<table border=\"1\" class=\"dataframe\">\n",
              "  <thead>\n",
              "    <tr style=\"text-align: right;\">\n",
              "      <th></th>\n",
              "      <th>Jumlah_ART</th>\n",
              "      <th>Jumlah_Keluarga</th>\n",
              "      <th>Umur</th>\n",
              "      <th>jenis_disabilitas</th>\n",
              "      <th>Partisipasi_sekolah</th>\n",
              "      <th>Pendidikan_tertinggi</th>\n",
              "      <th>Sta_Bekerja</th>\n",
              "      <th>ada_PKH</th>\n",
              "      <th>ada_KKS</th>\n",
              "    </tr>\n",
              "  </thead>\n",
              "  <tbody>\n",
              "    <tr>\n",
              "      <th>0</th>\n",
              "      <td>3</td>\n",
              "      <td>1.0</td>\n",
              "      <td>49.0</td>\n",
              "      <td>0</td>\n",
              "      <td>2</td>\n",
              "      <td>1</td>\n",
              "      <td>1</td>\n",
              "      <td>0</td>\n",
              "      <td>0</td>\n",
              "    </tr>\n",
              "    <tr>\n",
              "      <th>1</th>\n",
              "      <td>3</td>\n",
              "      <td>1.0</td>\n",
              "      <td>45.0</td>\n",
              "      <td>0</td>\n",
              "      <td>2</td>\n",
              "      <td>2</td>\n",
              "      <td>1</td>\n",
              "      <td>0</td>\n",
              "      <td>0</td>\n",
              "    </tr>\n",
              "    <tr>\n",
              "      <th>2</th>\n",
              "      <td>2</td>\n",
              "      <td>1.0</td>\n",
              "      <td>50.0</td>\n",
              "      <td>0</td>\n",
              "      <td>2</td>\n",
              "      <td>1</td>\n",
              "      <td>1</td>\n",
              "      <td>1</td>\n",
              "      <td>0</td>\n",
              "    </tr>\n",
              "    <tr>\n",
              "      <th>3</th>\n",
              "      <td>3</td>\n",
              "      <td>1.0</td>\n",
              "      <td>12.0</td>\n",
              "      <td>0</td>\n",
              "      <td>3</td>\n",
              "      <td>2</td>\n",
              "      <td>0</td>\n",
              "      <td>0</td>\n",
              "      <td>0</td>\n",
              "    </tr>\n",
              "    <tr>\n",
              "      <th>5</th>\n",
              "      <td>1</td>\n",
              "      <td>1.0</td>\n",
              "      <td>52.0</td>\n",
              "      <td>0</td>\n",
              "      <td>2</td>\n",
              "      <td>1</td>\n",
              "      <td>1</td>\n",
              "      <td>0</td>\n",
              "      <td>0</td>\n",
              "    </tr>\n",
              "  </tbody>\n",
              "</table>\n",
              "</div>\n",
              "      <button class=\"colab-df-convert\" onclick=\"convertToInteractive('df-8ed7f0a1-f21a-4a2b-92c2-552e2650cb31')\"\n",
              "              title=\"Convert this dataframe to an interactive table.\"\n",
              "              style=\"display:none;\">\n",
              "        \n",
              "  <svg xmlns=\"http://www.w3.org/2000/svg\" height=\"24px\"viewBox=\"0 0 24 24\"\n",
              "       width=\"24px\">\n",
              "    <path d=\"M0 0h24v24H0V0z\" fill=\"none\"/>\n",
              "    <path d=\"M18.56 5.44l.94 2.06.94-2.06 2.06-.94-2.06-.94-.94-2.06-.94 2.06-2.06.94zm-11 1L8.5 8.5l.94-2.06 2.06-.94-2.06-.94L8.5 2.5l-.94 2.06-2.06.94zm10 10l.94 2.06.94-2.06 2.06-.94-2.06-.94-.94-2.06-.94 2.06-2.06.94z\"/><path d=\"M17.41 7.96l-1.37-1.37c-.4-.4-.92-.59-1.43-.59-.52 0-1.04.2-1.43.59L10.3 9.45l-7.72 7.72c-.78.78-.78 2.05 0 2.83L4 21.41c.39.39.9.59 1.41.59.51 0 1.02-.2 1.41-.59l7.78-7.78 2.81-2.81c.8-.78.8-2.07 0-2.86zM5.41 20L4 18.59l7.72-7.72 1.47 1.35L5.41 20z\"/>\n",
              "  </svg>\n",
              "      </button>\n",
              "      \n",
              "  <style>\n",
              "    .colab-df-container {\n",
              "      display:flex;\n",
              "      flex-wrap:wrap;\n",
              "      gap: 12px;\n",
              "    }\n",
              "\n",
              "    .colab-df-convert {\n",
              "      background-color: #E8F0FE;\n",
              "      border: none;\n",
              "      border-radius: 50%;\n",
              "      cursor: pointer;\n",
              "      display: none;\n",
              "      fill: #1967D2;\n",
              "      height: 32px;\n",
              "      padding: 0 0 0 0;\n",
              "      width: 32px;\n",
              "    }\n",
              "\n",
              "    .colab-df-convert:hover {\n",
              "      background-color: #E2EBFA;\n",
              "      box-shadow: 0px 1px 2px rgba(60, 64, 67, 0.3), 0px 1px 3px 1px rgba(60, 64, 67, 0.15);\n",
              "      fill: #174EA6;\n",
              "    }\n",
              "\n",
              "    [theme=dark] .colab-df-convert {\n",
              "      background-color: #3B4455;\n",
              "      fill: #D2E3FC;\n",
              "    }\n",
              "\n",
              "    [theme=dark] .colab-df-convert:hover {\n",
              "      background-color: #434B5C;\n",
              "      box-shadow: 0px 1px 3px 1px rgba(0, 0, 0, 0.15);\n",
              "      filter: drop-shadow(0px 1px 2px rgba(0, 0, 0, 0.3));\n",
              "      fill: #FFFFFF;\n",
              "    }\n",
              "  </style>\n",
              "\n",
              "      <script>\n",
              "        const buttonEl =\n",
              "          document.querySelector('#df-8ed7f0a1-f21a-4a2b-92c2-552e2650cb31 button.colab-df-convert');\n",
              "        buttonEl.style.display =\n",
              "          google.colab.kernel.accessAllowed ? 'block' : 'none';\n",
              "\n",
              "        async function convertToInteractive(key) {\n",
              "          const element = document.querySelector('#df-8ed7f0a1-f21a-4a2b-92c2-552e2650cb31');\n",
              "          const dataTable =\n",
              "            await google.colab.kernel.invokeFunction('convertToInteractive',\n",
              "                                                     [key], {});\n",
              "          if (!dataTable) return;\n",
              "\n",
              "          const docLinkHtml = 'Like what you see? Visit the ' +\n",
              "            '<a target=\"_blank\" href=https://colab.research.google.com/notebooks/data_table.ipynb>data table notebook</a>'\n",
              "            + ' to learn more about interactive tables.';\n",
              "          element.innerHTML = '';\n",
              "          dataTable['output_type'] = 'display_data';\n",
              "          await google.colab.output.renderOutput(dataTable, element);\n",
              "          const docLink = document.createElement('div');\n",
              "          docLink.innerHTML = docLinkHtml;\n",
              "          element.appendChild(docLink);\n",
              "        }\n",
              "      </script>\n",
              "    </div>\n",
              "  </div>\n",
              "  "
            ]
          },
          "metadata": {},
          "execution_count": 23
        }
      ],
      "source": [
        "data1 [0:5]"
      ]
    },
    {
      "cell_type": "code",
      "execution_count": null,
      "metadata": {
        "colab": {
          "base_uri": "https://localhost:8080/"
        },
        "id": "XX1B3v4N30f2",
        "outputId": "dc86596a-a936-4996-9337-929e7b910097"
      },
      "outputs": [
        {
          "output_type": "execute_result",
          "data": {
            "text/plain": [
              "0    0\n",
              "1    0\n",
              "2    0\n",
              "3    0\n",
              "5    0\n",
              "Name: ada_kip, dtype: int64"
            ]
          },
          "metadata": {},
          "execution_count": 24
        }
      ],
      "source": [
        "#variabel Dependen\n",
        "y = data['ada_kip']\n",
        "y [0:5]"
      ]
    },
    {
      "cell_type": "code",
      "execution_count": null,
      "metadata": {
        "id": "-1TY-dqeeRQQ"
      },
      "outputs": [],
      "source": [
        "# data1.astype(int) [0:5]"
      ]
    },
    {
      "cell_type": "code",
      "execution_count": null,
      "metadata": {
        "colab": {
          "base_uri": "https://localhost:8080/"
        },
        "id": "5VxdnQlsIjeh",
        "outputId": "4a9423ac-4002-41a0-cccf-a9b44f51be50"
      },
      "outputs": [
        {
          "output_type": "stream",
          "name": "stdout",
          "text": [
            "Train set: (174407, 9) (174407,)\n",
            "Test set: (43602, 9) (43602,)\n"
          ]
        }
      ],
      "source": [
        "from sklearn.model_selection import train_test_split\n",
        "data1_train, data1_test, y_train, y_test = train_test_split( data1, y, test_size=0.2, random_state=42)\n",
        "print ('Train set:', data1_train.shape,  y_train.shape)\n",
        "print ('Test set:', data1_test.shape,  y_test.shape)"
      ]
    },
    {
      "cell_type": "code",
      "execution_count": null,
      "metadata": {
        "id": "LSYbdFp5a3ew"
      },
      "outputs": [],
      "source": [
        "#mengubah skala data menggunakan featuring scalling agar data seragam menggunakan sandar scaller\n",
        "from sklearn.preprocessing import StandardScaler\n",
        "\n",
        "scaler = StandardScaler()\n",
        "scaler.fit(data1_train)\n",
        "\n",
        "data1_train = scaler.transform(data1_train)\n",
        "data1_test = scaler.transform(data1_test)"
      ]
    },
    {
      "cell_type": "code",
      "execution_count": null,
      "metadata": {
        "colab": {
          "base_uri": "https://localhost:8080/",
          "height": 472
        },
        "id": "fwa8JMrFRGOL",
        "outputId": "f2393883-0cb7-4f44-f6d3-85a1617935ac"
      },
      "outputs": [
        {
          "output_type": "display_data",
          "data": {
            "text/plain": [
              "<Figure size 640x480 with 1 Axes>"
            ],
            "image/png": "[encoded data removed]"
          },
          "metadata": {}
        }
      ],
      "source": [
        "from sklearn.neighbors import KNeighborsClassifier\n",
        "\n",
        "error = []\n",
        "\n",
        "for i in range(1, 31):\n",
        "    knn = KNeighborsClassifier(n_neighbors=i)\n",
        "    knn.fit(data1_train, y_train)\n",
        "\n",
        "    pred_i = knn.predict(data1_test)\n",
        "    error.append(np.mean(pred_i != y_test))\n",
        "\n",
        "plt.figure()\n",
        "plt.plot(range(1, 31), error, color='red', marker='o',\n",
        "         markerfacecolor='blue', markersize=10)\n",
        "plt.title('Rata-Rata Error terhadap nilai K')\n",
        "plt.xlabel('Nilai K')\n",
        "plt.ylabel('Rata-Rata Error')\n",
        "plt.show()  "
      ]
    },
    {
      "cell_type": "code",
      "execution_count": null,
      "metadata": {
        "colab": {
          "base_uri": "https://localhost:8080/",
          "height": 75
        },
        "id": "lhNkIqsGBzYd",
        "outputId": "9bd1c45e-0b2a-4ea0-fbac-25b109bbfab1"
      },
      "outputs": [
        {
          "output_type": "execute_result",
          "data": {
            "text/plain": [
              "KNeighborsClassifier(n_neighbors=3)"
            ],
            "text/html": [
              "<style>#sk-container-id-1 {color: black;background-color: white;}#sk-container-id-1 pre{padding: 0;}#sk-container-id-1 div.sk-toggleable {background-color: white;}#sk-container-id-1 label.sk-toggleable__label {cursor: pointer;display: block;width: 100%;margin-bottom: 0;padding: 0.3em;box-sizing: border-box;text-align: center;}#sk-container-id-1 label.sk-toggleable__label-arrow:before {content: \"▸\";float: left;margin-right: 0.25em;color: #696969;}#sk-container-id-1 label.sk-toggleable__label-arrow:hover:before {color: black;}#sk-container-id-1 div.sk-estimator:hover label.sk-toggleable__label-arrow:before {color: black;}#sk-container-id-1 div.sk-toggleable__content {max-height: 0;max-width: 0;overflow: hidden;text-align: left;background-color: #f0f8ff;}#sk-container-id-1 div.sk-toggleable__content pre {margin: 0.2em;color: black;border-radius: 0.25em;background-color: #f0f8ff;}#sk-container-id-1 input.sk-toggleable__control:checked~div.sk-toggleable__content {max-height: 200px;max-width: 100%;overflow: auto;}#sk-container-id-1 input.sk-toggleable__control:checked~label.sk-toggleable__label-arrow:before {content: \"▾\";}#sk-container-id-1 div.sk-estimator input.sk-toggleable__control:checked~label.sk-toggleable__label {background-color: #d4ebff;}#sk-container-id-1 div.sk-label input.sk-toggleable__control:checked~label.sk-toggleable__label {background-color: #d4ebff;}#sk-container-id-1 input.sk-hidden--visually {border: 0;clip: rect(1px 1px 1px 1px);clip: rect(1px, 1px, 1px, 1px);height: 1px;margin: -1px;overflow: hidden;padding: 0;position: absolute;width: 1px;}#sk-container-id-1 div.sk-estimator {font-family: monospace;background-color: #f0f8ff;border: 1px dotted black;border-radius: 0.25em;box-sizing: border-box;margin-bottom: 0.5em;}#sk-container-id-1 div.sk-estimator:hover {background-color: #d4ebff;}#sk-container-id-1 div.sk-parallel-item::after {content: \"\";width: 100%;border-bottom: 1px solid gray;flex-grow: 1;}#sk-container-id-1 div.sk-label:hover label.sk-toggleable__label {background-color: #d4ebff;}#sk-container-id-1 div.sk-serial::before {content: \"\";position: absolute;border-left: 1px solid gray;box-sizing: border-box;top: 0;bottom: 0;left: 50%;z-index: 0;}#sk-container-id-1 div.sk-serial {display: flex;flex-direction: column;align-items: center;background-color: white;padding-right: 0.2em;padding-left: 0.2em;position: relative;}#sk-container-id-1 div.sk-item {position: relative;z-index: 1;}#sk-container-id-1 div.sk-parallel {display: flex;align-items: stretch;justify-content: center;background-color: white;position: relative;}#sk-container-id-1 div.sk-item::before, #sk-container-id-1 div.sk-parallel-item::before {content: \"\";position: absolute;border-left: 1px solid gray;box-sizing: border-box;top: 0;bottom: 0;left: 50%;z-index: -1;}#sk-container-id-1 div.sk-parallel-item {display: flex;flex-direction: column;z-index: 1;position: relative;background-color: white;}#sk-container-id-1 div.sk-parallel-item:first-child::after {align-self: flex-end;width: 50%;}#sk-container-id-1 div.sk-parallel-item:last-child::after {align-self: flex-start;width: 50%;}#sk-container-id-1 div.sk-parallel-item:only-child::after {width: 0;}#sk-container-id-1 div.sk-dashed-wrapped {border: 1px dashed gray;margin: 0 0.4em 0.5em 0.4em;box-sizing: border-box;padding-bottom: 0.4em;background-color: white;}#sk-container-id-1 div.sk-label label {font-family: monospace;font-weight: bold;display: inline-block;line-height: 1.2em;}#sk-container-id-1 div.sk-label-container {text-align: center;}#sk-container-id-1 div.sk-container {/* jupyter's `normalize.less` sets `[hidden] { display: none; }` but bootstrap.min.css set `[hidden] { display: none !important; }` so we also need the `!important` here to be able to override the default hidden behavior on the sphinx rendered scikit-learn.org. See: https://github.com/scikit-learn/scikit-learn/issues/21755 */display: inline-block !important;position: relative;}#sk-container-id-1 div.sk-text-repr-fallback {display: none;}</style><div id=\"sk-container-id-1\" class=\"sk-top-container\"><div class=\"sk-text-repr-fallback\"><pre>KNeighborsClassifier(n_neighbors=3)</pre><b>In a Jupyter environment, please rerun this cell to show the HTML representation or trust the notebook. <br />On GitHub, the HTML representation is unable to render, please try loading this page with nbviewer.org.</b></div><div class=\"sk-container\" hidden><div class=\"sk-item\"><div class=\"sk-estimator sk-toggleable\"><input class=\"sk-toggleable__control sk-hidden--visually\" id=\"sk-estimator-id-1\" type=\"checkbox\" checked><label for=\"sk-estimator-id-1\" class=\"sk-toggleable__label sk-toggleable__label-arrow\">KNeighborsClassifier</label><div class=\"sk-toggleable__content\"><pre>KNeighborsClassifier(n_neighbors=3)</pre></div></div></div></div></div>"
            ]
          },
          "metadata": {},
          "execution_count": 29
        }
      ],
      "source": [
        "#Mengklasifikasikan dan mengimport KNN\n",
        "knn = KNeighborsClassifier(n_neighbors=3)\n",
        "knn.fit(data1_train, y_train)"
      ]
    },
    {
      "cell_type": "code",
      "execution_count": null,
      "metadata": {
        "colab": {
          "base_uri": "https://localhost:8080/"
        },
        "id": "J_VeDgQPegRO",
        "outputId": "44262eb0-6d18-45ca-b54e-2c33c8fe2551"
      },
      "outputs": [
        {
          "output_type": "execute_result",
          "data": {
            "text/plain": [
              "array([0, 0, 0, 0, 0, 0, 0, 0, 0, 0, 0, 0, 0, 0, 0, 0, 0, 1, 1, 0, 0, 0,\n",
              "       0, 0, 1, 0, 0, 0, 0, 0, 0, 0, 0, 0, 0, 0, 0, 0, 0, 0, 0, 0, 1, 0,\n",
              "       0, 0, 0, 0, 0, 0])"
            ]
          },
          "metadata": {},
          "execution_count": 30
        }
      ],
      "source": [
        "#prediksi\n",
        "yhat = knn.predict(data1_test)\n",
        "yhat [0:50]"
      ]
    },
    {
      "cell_type": "code",
      "execution_count": null,
      "metadata": {
        "colab": {
          "base_uri": "https://localhost:8080/"
        },
        "id": "zhZtKkkherh-",
        "outputId": "92262df2-8cea-4544-8360-10f37b8fa854"
      },
      "outputs": [
        {
          "output_type": "stream",
          "name": "stdout",
          "text": [
            "Train set Accuracy:  0.9705401732728618\n",
            "Test set Accuracy:  0.9689234438787212\n"
          ]
        }
      ],
      "source": [
        "#menghitung tingkat akurasi data prediksi\n",
        "from sklearn import metrics\n",
        "print(\"Train set Accuracy: \", metrics.accuracy_score(y_train, knn.predict(data1_train)))\n",
        "print(\"Test set Accuracy: \", metrics.accuracy_score(y_test, yhat))"
      ]
    },
    {
      "cell_type": "code",
      "execution_count": null,
      "metadata": {
        "colab": {
          "base_uri": "https://localhost:8080/"
        },
        "id": "qjB8cUbLeM1e",
        "outputId": "aecd424e-3a93-4d37-cc71-c40236527bae"
      },
      "outputs": [
        {
          "output_type": "stream",
          "name": "stdout",
          "text": [
            "              precision    recall  f1-score   support\n",
            "\n",
            "           0       0.97      1.00      0.98     34697\n",
            "           1       0.99      0.86      0.92      8905\n",
            "\n",
            "    accuracy                           0.97     43602\n",
            "   macro avg       0.98      0.93      0.95     43602\n",
            "weighted avg       0.97      0.97      0.97     43602\n",
            "\n"
          ]
        }
      ],
      "source": [
        "from sklearn.metrics import classification_report, confusion_matrix\n",
        "from sklearn.metrics import ConfusionMatrixDisplay\n",
        "print(classification_report(y_test, yhat))"
      ]
    },
    {
      "cell_type": "markdown",
      "metadata": {
        "id": "-VqLZohqsAvT"
      },
      "source": [
        "Validasi"
      ]
    },
    {
      "cell_type": "code",
      "execution_count": null,
      "metadata": {
        "colab": {
          "base_uri": "https://localhost:8080/"
        },
        "id": "XxSFIc16j6Vm",
        "outputId": "89b03d9d-73dd-4668-8330-34d932105b82"
      },
      "outputs": [
        {
          "output_type": "stream",
          "name": "stdout",
          "text": [
            "[0.9950461  0.9945874  0.99380762 0.87418008 0.84175038 0.99642218\n",
            " 0.99619284 0.99527545 0.99578001 0.9953211 ]\n",
            "0.9678363163208152\n"
          ]
        }
      ],
      "source": [
        "#Cross Validation\n",
        "from sklearn.model_selection import cross_val_score\n",
        "import numpy as np\n",
        "# use the same model as before\n",
        "knn = KNeighborsClassifier(n_neighbors = 3)\n",
        "scores = cross_val_score(knn, data1, y, cv=10, scoring='accuracy')\n",
        "# print all 5 times scores \n",
        "print(scores)\n",
        "# then I will do the average about these five scores to get more accuracy score.\n",
        "print(scores.mean())"
      ]
    },
    {
      "cell_type": "code",
      "execution_count": null,
      "metadata": {
        "colab": {
          "base_uri": "https://localhost:8080/",
          "height": 486
        },
        "id": "_Ahk-ZKokrWp",
        "outputId": "bde6f69d-66cb-451a-c579-c42b0a7907ef"
      },
      "outputs": [
        {
          "output_type": "display_data",
          "data": {
            "text/plain": [
              "<Figure size 640x480 with 1 Axes>"
            ],
            "image/png": "[encoded data removed]"
          },
          "metadata": {}
        },
        {
          "output_type": "stream",
          "name": "stdout",
          "text": [
            "[0.9625292001166514, 0.9692124086135262, 0.9678363163208152, 0.9694692777749021, 0.9691481894820919, 0.9694279944232841, 0.9691711233682152, 0.9692903843734128, 0.9691848842048743, 0.9692812111135378, 0.9691481884300401, 0.9691986452519432, 0.9691252530710444, 0.9691619490562886, 0.9690610352020718, 0.9691390147493445, 0.9690656244621385, 0.969129840437418, 0.9689692981847056, 0.968983059231775, 0.968983059231775, 0.9690289288977147, 0.9689188417836233, 0.9689509504024938, 0.9688821453775581, 0.9688316893972964, 0.9688546243354714, 0.9688959064246274, 0.9689004935805908, 0.9689050805261438]\n"
          ]
        }
      ],
      "source": [
        "#Tunning Hyperparameter\n",
        "import matplotlib.pyplot as plt \n",
        "%matplotlib inline\n",
        "# choose k between 1 to 31\n",
        "k_range = range(1, 31)\n",
        "k_scores = []\n",
        "# use iteration to caclulator different k in models, then return the average accuracy based on the cross validation\n",
        "for k in k_range:\n",
        "    knn = KNeighborsClassifier(n_neighbors=k)\n",
        "    scores = cross_val_score(knn, data1, y, cv=10, scoring='accuracy')\n",
        "    k_scores.append(scores.mean())\n",
        "# plot to see clearly\n",
        "plt.plot(k_range, k_scores)\n",
        "plt.xlabel('Value of K for K-NN')\n",
        "plt.ylabel('Cross-Validation Accuracy')\n",
        "plt.show()\n",
        "print(k_scores)"
      ]
    },
    {
      "cell_type": "code",
      "source": [
        "from sklearn.model_selection import RepeatedStratifiedKFold\n",
        "\n",
        "cv_method = RepeatedStratifiedKFold(n_splits=5, \n",
        "                                    n_repeats=3, \n",
        "                                    random_state=999)"
      ],
      "metadata": {
        "id": "EIuEH_OKI5pu"
      },
      "execution_count": null,
      "outputs": []
    },
    {
      "cell_type": "code",
      "source": [
        "from sklearn.model_selection import train_test_split,GridSearchCV\n",
        "from sklearn.preprocessing import PowerTransformer\n",
        "params_NB = {'var_smoothing': np.logspace(0,-9, num=100)}\n",
        "\n",
        "gs_NB = GridSearchCV(estimator=modelnb, \n",
        "                     param_grid=params_NB, \n",
        "                     cv=cv_method,\n",
        "                     verbose=1, \n",
        "                     scoring='accuracy')\n",
        "\n",
        "Data_transformed = PowerTransformer().fit_transform(data1_test)\n",
        "\n",
        "gs_NB.fit(Data_transformed, y_test);"
      ],
      "metadata": {
        "colab": {
          "base_uri": "https://localhost:8080/",
          "height": 235
        },
        "id": "4yFnMSbcI_qZ",
        "outputId": "7d20e749-cbe0-4f67-9e29-fdaf976281f5"
      },
      "execution_count": null,
      "outputs": [
        {
          "output_type": "error",
          "ename": "NameError",
          "evalue": "ignored",
          "traceback": [
            "\u001b[0;31m---------------------------------------------------------------------------\u001b[0m",
            "\u001b[0;31mNameError\u001b[0m                                 Traceback (most recent call last)",
            "\u001b[0;32m<ipython-input-36-9c58bd5184b5>\u001b[0m in \u001b[0;36m<cell line: 5>\u001b[0;34m()\u001b[0m\n\u001b[1;32m      3\u001b[0m \u001b[0mparams_NB\u001b[0m \u001b[0;34m=\u001b[0m \u001b[0;34m{\u001b[0m\u001b[0;34m'var_smoothing'\u001b[0m\u001b[0;34m:\u001b[0m \u001b[0mnp\u001b[0m\u001b[0;34m.\u001b[0m\u001b[0mlogspace\u001b[0m\u001b[0;34m(\u001b[0m\u001b[0;36m0\u001b[0m\u001b[0;34m,\u001b[0m\u001b[0;34m-\u001b[0m\u001b[0;36m9\u001b[0m\u001b[0;34m,\u001b[0m \u001b[0mnum\u001b[0m\u001b[0;34m=\u001b[0m\u001b[0;36m100\u001b[0m\u001b[0;34m)\u001b[0m\u001b[0;34m}\u001b[0m\u001b[0;34m\u001b[0m\u001b[0;34m\u001b[0m\u001b[0m\n\u001b[1;32m      4\u001b[0m \u001b[0;34m\u001b[0m\u001b[0m\n\u001b[0;32m----> 5\u001b[0;31m gs_NB = GridSearchCV(estimator=modelnb, \n\u001b[0m\u001b[1;32m      6\u001b[0m                      \u001b[0mparam_grid\u001b[0m\u001b[0;34m=\u001b[0m\u001b[0mparams_NB\u001b[0m\u001b[0;34m,\u001b[0m\u001b[0;34m\u001b[0m\u001b[0;34m\u001b[0m\u001b[0m\n\u001b[1;32m      7\u001b[0m                      \u001b[0mcv\u001b[0m\u001b[0;34m=\u001b[0m\u001b[0mcv_method\u001b[0m\u001b[0;34m,\u001b[0m\u001b[0;34m\u001b[0m\u001b[0;34m\u001b[0m\u001b[0m\n",
            "\u001b[0;31mNameError\u001b[0m: name 'modelnb' is not defined"
          ]
        }
      ]
    },
    {
      "cell_type": "code",
      "source": [
        "gs_NB.best_params_"
      ],
      "metadata": {
        "id": "_TV4haKCJ1t0"
      },
      "execution_count": null,
      "outputs": []
    },
    {
      "cell_type": "code",
      "source": [
        "gs_NB.best_score_"
      ],
      "metadata": {
        "id": "AWC6uEUdKSqx"
      },
      "execution_count": null,
      "outputs": []
    },
    {
      "cell_type": "code",
      "source": [
        "results_NB = pd.DataFrame(gs_NB.cv_results_['params'])\n",
        "results_NB['test_score'] = gs_NB.cv_results_['mean_test_score']\n",
        "plt.plot(results_NB['var_smoothing'], results_NB['test_score'], marker = '.')    \n",
        "plt.xlabel('Var. Smoothing')\n",
        "plt.ylabel(\"Mean CV Score\")\n",
        "plt.title(\"NB Performance Comparison\")\n",
        "plt.show()"
      ],
      "metadata": {
        "id": "vAt5cwXCKYKc"
      },
      "execution_count": null,
      "outputs": []
    },
    {
      "cell_type": "code",
      "source": [
        "# predict the target on the test dataset\n",
        "predict_test = gs_NB.predict(Data_transformed)\n",
        "\n",
        "# Accuracy Score on test dataset\n",
        "accuracy_test = accuracy_score(y_test,predict_test)\n",
        "print('accuracy_score on test dataset : ', accuracy_test)"
      ],
      "metadata": {
        "id": "e2IKoQDUOAtx"
      },
      "execution_count": null,
      "outputs": []
    },
    {
      "cell_type": "markdown",
      "metadata": {
        "id": "LOgGf171yYPd"
      },
      "source": [
        "**EVALUASI**"
      ]
    },
    {
      "cell_type": "code",
      "execution_count": null,
      "metadata": {
        "id": "YncH96yfW7I1"
      },
      "outputs": [],
      "source": [
        "print(confusion_matrix(y_test, yhat))\n",
        "cm = confusion_matrix(y_test, yhat)\n",
        "cm_display = ConfusionMatrixDisplay(cm).plot()\n",
        "print('\\nTrue Positives(TP) = ', cm[0,0])\n",
        "\n",
        "print('\\nTrue Negatives(TN) = ', cm[1,1])\n",
        "\n",
        "print('\\nFalse Positives(FP) = ', cm[0,1])\n",
        "\n",
        "print('\\nFalse Negatives(FN) = ', cm[1,0])"
      ]
    },
    {
      "cell_type": "markdown",
      "metadata": {
        "id": "BQAjt_gTK0wW"
      },
      "source": [
        "**Naive Bayes**"
      ]
    },
    {
      "cell_type": "code",
      "execution_count": null,
      "metadata": {
        "id": "e5uctkU4K6bm"
      },
      "outputs": [],
      "source": [
        "#untuk mengaktifkn klasifikasi naive bayes\n",
        "from sklearn.naive_bayes import GaussianNB\n",
        "modelnb = GaussianNB()\n",
        "#memasukkan data training pada fungsi klasifikasi Naive Bayes.\n",
        "nbtrain = modelnb.fit(data1_train, y_train)\n",
        "nbtrain.class_count_"
      ]
    },
    {
      "cell_type": "code",
      "execution_count": null,
      "metadata": {
        "id": "EB8vgJoILTck"
      },
      "outputs": [],
      "source": [
        "# menentukan hasil prediksi data testing, dapat menggunakan script\n",
        "y_pred  = nbtrain.predict(data1_test)\n",
        "y_pred [0:50]"
      ]
    },
    {
      "cell_type": "code",
      "execution_count": null,
      "metadata": {
        "id": "5yoM_wpiEtWu"
      },
      "outputs": [],
      "source": [
        "from sklearn.metrics import accuracy_score\n",
        "\n",
        "print('Model accuracy score: {0:0.4f}'. format(accuracy_score(y_test, y_pred)))"
      ]
    },
    {
      "cell_type": "code",
      "execution_count": null,
      "metadata": {
        "id": "3NVI7rwGLY7c"
      },
      "outputs": [],
      "source": [
        "#nilai akurasi\n",
        "from sklearn.metrics import classification_report \n",
        "print (classification_report(y_test, y_pred))"
      ]
    },
    {
      "cell_type": "markdown",
      "metadata": {
        "id": "tO232-xfb23L"
      },
      "source": [
        "**Validasi**"
      ]
    },
    {
      "cell_type": "code",
      "execution_count": null,
      "metadata": {
        "id": "cNjuqCd7HjHS"
      },
      "outputs": [],
      "source": [
        "#Cross Validation\n",
        "from sklearn.model_selection import cross_val_score\n",
        "import numpy as np\n",
        "# use the same model as before\n",
        "modelnb = GaussianNB()\n",
        "scores = cross_val_score(modelnb, data1_train, y_train, cv=10, scoring='accuracy')\n",
        "# print all 5 times scores \n",
        "print(scores)\n",
        "# then I will do the average about these five scores to get more accuracy score.\n",
        "print(scores.mean())"
      ]
    },
    {
      "cell_type": "markdown",
      "metadata": {
        "id": "9B2cI-E0b8xt"
      },
      "source": [
        "Evaluasi"
      ]
    },
    {
      "cell_type": "code",
      "execution_count": null,
      "metadata": {
        "id": "wfFIs7wPLale"
      },
      "outputs": [],
      "source": [
        "#membuat confussion matriks\n",
        "from sklearn.metrics import confusion_matrix\n",
        "confusion_matrix(y_test, y_pred)"
      ]
    },
    {
      "cell_type": "code",
      "execution_count": null,
      "metadata": {
        "id": "ev6mThVvLeMV"
      },
      "outputs": [],
      "source": [
        "from sklearn.metrics import ConfusionMatrixDisplay\n",
        "print(confusion_matrix(y_test, y_pred))\n",
        "cm = confusion_matrix(y_test, y_pred)\n",
        "cm_display = ConfusionMatrixDisplay(cm).plot()\n",
        "print('\\nTrue Positives(TP) = ', cm[0,0])\n",
        "\n",
        "print('\\nTrue Negatives(TN) = ', cm[1,1])\n",
        "\n",
        "print('\\nFalse Positives(FP) = ', cm[0,1])\n",
        "\n",
        "print('\\nFalse Negatives(FN) = ', cm[1,0])"
      ]
    },
    {
      "cell_type": "markdown",
      "metadata": {
        "id": "H6LTfh0Fw8MN"
      },
      "source": []
    },
    {
      "cell_type": "markdown",
      "metadata": {
        "id": "m52HgF17w8GD"
      },
      "source": []
    },
    {
      "cell_type": "markdown",
      "metadata": {
        "id": "A7vnq7oUw8EI"
      },
      "source": []
    },
    {
      "cell_type": "markdown",
      "metadata": {
        "id": "-eEN3SLRw8Bc"
      },
      "source": []
    },
    {
      "cell_type": "markdown",
      "metadata": {
        "id": "xcAm43Piw79D"
      },
      "source": []
    }
  ],
  "metadata": {
    "colab": {
      "provenance": [],
      "include_colab_link": true
    },
    "kernelspec": {
      "display_name": "Python 3",
      "name": "python3"
    },
    "language_info": {
      "name": "python"
    }
  },
  "nbformat": 4,
  "nbformat_minor": 0
}