{
  "nbformat": 4,
  "nbformat_minor": 0,
  "metadata": {
    "colab": {
      "provenance": [],
      "authorship_tag": "ABX9TyOMj5fFj7Yr1ZD5HjlBfdOc",
      "include_colab_link": true
    },
    "kernelspec": {
      "name": "python3",
      "display_name": "Python 3"
    }
  },
  "cells": [
    {
      "cell_type": "markdown",
      "metadata": {
        "id": "view-in-github",
        "colab_type": "text"
      },
      "source": [
        "<a href=\"https://colab.research.google.com/github/rangkuti289/Portof/blob/master/CODIG%203.0%20Lomba%20Mercu%20Buana.ipynb\" target=\"_parent\"><img src=\"https://colab.research.google.com/assets/colab-badge.svg\" alt=\"Open In Colab\"/></a>"
      ]
    },
    {
      "cell_type": "markdown",
      "metadata": {
        "id": "7V5eCjnhduwS"
      },
      "source": [
        "# **Preparing**"
      ]
    },
    {
      "cell_type": "code",
      "metadata": {
        "button": false,
        "deletable": true,
        "new_sheet": false,
        "run_control": {
          "read_only": false
        },
        "id": "zD9W99QhS7yI"
      },
      "source": [
        "#menyiapkan library yang di perlukan\n",
        "import itertools\n",
        "import numpy as np\n",
        "import matplotlib.pyplot as plt\n",
        "from matplotlib.ticker import NullFormatter\n",
        "import pandas as pd\n",
        "import numpy as np\n",
        "import matplotlib.ticker as ticker\n",
        "from sklearn import preprocessing\n",
        "%matplotlib inline"
      ],
      "execution_count": null,
      "outputs": []
    },
    {
      "cell_type": "code",
      "metadata": {
        "id": "gcDFTYo3qkCN",
        "colab": {
          "resources": {
            "http://localhost:8080/nbextensions/google.colab/files.js": {
              "data": "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",
              "ok": true,
              "headers": [
                [
                  "content-type",
                  "application/javascript"
                ]
              ],
              "status": 200,
              "status_text": ""
            }
          },
          "base_uri": "https://localhost:8080/",
          "height": 72
        },
        "outputId": "24fc8a2e-c3a7-4d77-c03e-bcedb633808b"
      },
      "source": [
        "#menginput dataset yang di perlukan\n",
        "from google.colab import files\n",
        "uploaded = files.upload()"
      ],
      "execution_count": null,
      "outputs": [
        {
          "output_type": "display_data",
          "data": {
            "text/html": [
              "\n",
              "     <input type=\"file\" id=\"files-4b6ee38e-33e0-4b1b-b9c7-2c3bb4223358\" name=\"files[]\" multiple disabled\n",
              "        style=\"border:none\" />\n",
              "     <output id=\"result-4b6ee38e-33e0-4b1b-b9c7-2c3bb4223358\">\n",
              "      Upload widget is only available when the cell has been executed in the\n",
              "      current browser session. Please rerun this cell to enable.\n",
              "      </output>\n",
              "      <script src=\"/nbextensions/google.colab/files.js\"></script> "
            ],
            "text/plain": [
              "<IPython.core.display.HTML object>"
            ]
          },
          "metadata": {
            "tags": []
          }
        },
        {
          "output_type": "stream",
          "text": [
            "Saving 2010-2019.csv to 2010-2019.csv\n"
          ],
          "name": "stdout"
        }
      ]
    },
    {
      "cell_type": "code",
      "metadata": {
        "id": "N0OmyAmnec0Z",
        "colab": {
          "base_uri": "https://localhost:8080/",
          "height": 610
        },
        "outputId": "28a71b80-5161-4d25-e123-3c8755fa99eb"
      },
      "source": [
        "#menampilkan dataset\n",
        "data = pd.read_csv('2010-2019.csv')\n",
        "data"
      ],
      "execution_count": null,
      "outputs": [
        {
          "output_type": "execute_result",
          "data": {
            "text/html": [
              "<div>\n",
              "<style scoped>\n",
              "    .dataframe tbody tr th:only-of-type {\n",
              "        vertical-align: middle;\n",
              "    }\n",
              "\n",
              "    .dataframe tbody tr th {\n",
              "        vertical-align: top;\n",
              "    }\n",
              "\n",
              "    .dataframe thead th {\n",
              "        text-align: right;\n",
              "    }\n",
              "</style>\n",
              "<table border=\"1\" class=\"dataframe\">\n",
              "  <thead>\n",
              "    <tr style=\"text-align: right;\">\n",
              "      <th></th>\n",
              "      <th>Unnamed: 0</th>\n",
              "      <th>STATION</th>\n",
              "      <th>DATE</th>\n",
              "      <th>LATITUDE</th>\n",
              "      <th>LONGITUDE</th>\n",
              "      <th>ELEVATION</th>\n",
              "      <th>NAME</th>\n",
              "      <th>TEMP</th>\n",
              "      <th>TEMP_ATTRIBUTES</th>\n",
              "      <th>DEWP</th>\n",
              "      <th>DEWP_ATTRIBUTES</th>\n",
              "      <th>SLP</th>\n",
              "      <th>SLP_ATTRIBUTES</th>\n",
              "      <th>STP</th>\n",
              "      <th>STP_ATTRIBUTES</th>\n",
              "      <th>VISIB</th>\n",
              "      <th>VISIB_ATTRIBUTES</th>\n",
              "      <th>WDSP</th>\n",
              "      <th>WDSP_ATTRIBUTES</th>\n",
              "      <th>MXSPD</th>\n",
              "      <th>GUST</th>\n",
              "      <th>MAX</th>\n",
              "      <th>MAX_ATTRIBUTES</th>\n",
              "      <th>MIN</th>\n",
              "      <th>MIN_ATTRIBUTES</th>\n",
              "      <th>PRCP</th>\n",
              "      <th>PRCP_ATTRIBUTES</th>\n",
              "      <th>SNDP</th>\n",
              "      <th>FRSHTT</th>\n",
              "    </tr>\n",
              "  </thead>\n",
              "  <tbody>\n",
              "    <tr>\n",
              "      <th>0</th>\n",
              "      <td>0.0</td>\n",
              "      <td>96685099999</td>\n",
              "      <td>2010-01-01</td>\n",
              "      <td>-3.442356</td>\n",
              "      <td>114.762553</td>\n",
              "      <td>20.11</td>\n",
              "      <td>SYAMSUDIN NOOR, ID</td>\n",
              "      <td>80.2</td>\n",
              "      <td>6</td>\n",
              "      <td>76.7</td>\n",
              "      <td>6</td>\n",
              "      <td>1008.4</td>\n",
              "      <td>6</td>\n",
              "      <td>5.7</td>\n",
              "      <td>6</td>\n",
              "      <td>4.9</td>\n",
              "      <td>6</td>\n",
              "      <td>2.0</td>\n",
              "      <td>6</td>\n",
              "      <td>5.1</td>\n",
              "      <td>999.9</td>\n",
              "      <td>87.3</td>\n",
              "      <td>*</td>\n",
              "      <td>75.9</td>\n",
              "      <td></td>\n",
              "      <td>0.78</td>\n",
              "      <td>B</td>\n",
              "      <td>999.9</td>\n",
              "      <td>10000</td>\n",
              "    </tr>\n",
              "    <tr>\n",
              "      <th>1</th>\n",
              "      <td>1.0</td>\n",
              "      <td>96685099999</td>\n",
              "      <td>2010-01-02</td>\n",
              "      <td>-3.442356</td>\n",
              "      <td>114.762553</td>\n",
              "      <td>20.11</td>\n",
              "      <td>SYAMSUDIN NOOR, ID</td>\n",
              "      <td>80.6</td>\n",
              "      <td>15</td>\n",
              "      <td>76.5</td>\n",
              "      <td>15</td>\n",
              "      <td>1009.7</td>\n",
              "      <td>8</td>\n",
              "      <td>7.0</td>\n",
              "      <td>8</td>\n",
              "      <td>5.1</td>\n",
              "      <td>15</td>\n",
              "      <td>2.8</td>\n",
              "      <td>15</td>\n",
              "      <td>11.1</td>\n",
              "      <td>999.9</td>\n",
              "      <td>90.0</td>\n",
              "      <td></td>\n",
              "      <td>75.9</td>\n",
              "      <td></td>\n",
              "      <td>1.89</td>\n",
              "      <td>A</td>\n",
              "      <td>999.9</td>\n",
              "      <td>10010</td>\n",
              "    </tr>\n",
              "    <tr>\n",
              "      <th>2</th>\n",
              "      <td>2.0</td>\n",
              "      <td>96685099999</td>\n",
              "      <td>2010-01-03</td>\n",
              "      <td>-3.442356</td>\n",
              "      <td>114.762553</td>\n",
              "      <td>20.11</td>\n",
              "      <td>SYAMSUDIN NOOR, ID</td>\n",
              "      <td>83.0</td>\n",
              "      <td>14</td>\n",
              "      <td>75.9</td>\n",
              "      <td>14</td>\n",
              "      <td>1009.1</td>\n",
              "      <td>7</td>\n",
              "      <td>6.4</td>\n",
              "      <td>7</td>\n",
              "      <td>6.3</td>\n",
              "      <td>14</td>\n",
              "      <td>3.1</td>\n",
              "      <td>14</td>\n",
              "      <td>6.0</td>\n",
              "      <td>999.9</td>\n",
              "      <td>89.6</td>\n",
              "      <td></td>\n",
              "      <td>75.6</td>\n",
              "      <td></td>\n",
              "      <td>0.00</td>\n",
              "      <td>I</td>\n",
              "      <td>999.9</td>\n",
              "      <td>0</td>\n",
              "    </tr>\n",
              "    <tr>\n",
              "      <th>3</th>\n",
              "      <td>3.0</td>\n",
              "      <td>96685099999</td>\n",
              "      <td>2010-01-04</td>\n",
              "      <td>-3.442356</td>\n",
              "      <td>114.762553</td>\n",
              "      <td>20.11</td>\n",
              "      <td>SYAMSUDIN NOOR, ID</td>\n",
              "      <td>80.6</td>\n",
              "      <td>15</td>\n",
              "      <td>76.9</td>\n",
              "      <td>15</td>\n",
              "      <td>1008.7</td>\n",
              "      <td>8</td>\n",
              "      <td>6.0</td>\n",
              "      <td>8</td>\n",
              "      <td>5.5</td>\n",
              "      <td>15</td>\n",
              "      <td>2.3</td>\n",
              "      <td>15</td>\n",
              "      <td>5.1</td>\n",
              "      <td>999.9</td>\n",
              "      <td>90.0</td>\n",
              "      <td></td>\n",
              "      <td>75.2</td>\n",
              "      <td>*</td>\n",
              "      <td>1.57</td>\n",
              "      <td>A</td>\n",
              "      <td>999.9</td>\n",
              "      <td>10000</td>\n",
              "    </tr>\n",
              "    <tr>\n",
              "      <th>4</th>\n",
              "      <td>4.0</td>\n",
              "      <td>96685099999</td>\n",
              "      <td>2010-01-05</td>\n",
              "      <td>-3.442356</td>\n",
              "      <td>114.762553</td>\n",
              "      <td>20.11</td>\n",
              "      <td>SYAMSUDIN NOOR, ID</td>\n",
              "      <td>80.0</td>\n",
              "      <td>17</td>\n",
              "      <td>74.9</td>\n",
              "      <td>17</td>\n",
              "      <td>1009.7</td>\n",
              "      <td>8</td>\n",
              "      <td>7.0</td>\n",
              "      <td>8</td>\n",
              "      <td>6.2</td>\n",
              "      <td>17</td>\n",
              "      <td>3.8</td>\n",
              "      <td>17</td>\n",
              "      <td>8.9</td>\n",
              "      <td>999.9</td>\n",
              "      <td>86.0</td>\n",
              "      <td></td>\n",
              "      <td>75.2</td>\n",
              "      <td>*</td>\n",
              "      <td>0.20</td>\n",
              "      <td>A</td>\n",
              "      <td>999.9</td>\n",
              "      <td>10000</td>\n",
              "    </tr>\n",
              "    <tr>\n",
              "      <th>...</th>\n",
              "      <td>...</td>\n",
              "      <td>...</td>\n",
              "      <td>...</td>\n",
              "      <td>...</td>\n",
              "      <td>...</td>\n",
              "      <td>...</td>\n",
              "      <td>...</td>\n",
              "      <td>...</td>\n",
              "      <td>...</td>\n",
              "      <td>...</td>\n",
              "      <td>...</td>\n",
              "      <td>...</td>\n",
              "      <td>...</td>\n",
              "      <td>...</td>\n",
              "      <td>...</td>\n",
              "      <td>...</td>\n",
              "      <td>...</td>\n",
              "      <td>...</td>\n",
              "      <td>...</td>\n",
              "      <td>...</td>\n",
              "      <td>...</td>\n",
              "      <td>...</td>\n",
              "      <td>...</td>\n",
              "      <td>...</td>\n",
              "      <td>...</td>\n",
              "      <td>...</td>\n",
              "      <td>...</td>\n",
              "      <td>...</td>\n",
              "      <td>...</td>\n",
              "    </tr>\n",
              "    <tr>\n",
              "      <th>3618</th>\n",
              "      <td>NaN</td>\n",
              "      <td>96685099999</td>\n",
              "      <td>2019-12-27</td>\n",
              "      <td>-3.442356</td>\n",
              "      <td>114.762553</td>\n",
              "      <td>20.11</td>\n",
              "      <td>SYAMSUDIN NOOR, ID</td>\n",
              "      <td>83.2</td>\n",
              "      <td>9</td>\n",
              "      <td>76.4</td>\n",
              "      <td>9</td>\n",
              "      <td>1009.3</td>\n",
              "      <td>8</td>\n",
              "      <td>7.2</td>\n",
              "      <td>8</td>\n",
              "      <td>5.7</td>\n",
              "      <td>9</td>\n",
              "      <td>4.0</td>\n",
              "      <td>9</td>\n",
              "      <td>7.0</td>\n",
              "      <td>999.9</td>\n",
              "      <td>92.8</td>\n",
              "      <td></td>\n",
              "      <td>75.9</td>\n",
              "      <td></td>\n",
              "      <td>0.00</td>\n",
              "      <td>I</td>\n",
              "      <td>999.9</td>\n",
              "      <td>0</td>\n",
              "    </tr>\n",
              "    <tr>\n",
              "      <th>3619</th>\n",
              "      <td>NaN</td>\n",
              "      <td>96685099999</td>\n",
              "      <td>2019-12-28</td>\n",
              "      <td>-3.442356</td>\n",
              "      <td>114.762553</td>\n",
              "      <td>20.11</td>\n",
              "      <td>SYAMSUDIN NOOR, ID</td>\n",
              "      <td>82.8</td>\n",
              "      <td>8</td>\n",
              "      <td>77.0</td>\n",
              "      <td>8</td>\n",
              "      <td>1009.8</td>\n",
              "      <td>8</td>\n",
              "      <td>7.6</td>\n",
              "      <td>8</td>\n",
              "      <td>5.4</td>\n",
              "      <td>8</td>\n",
              "      <td>4.2</td>\n",
              "      <td>8</td>\n",
              "      <td>7.0</td>\n",
              "      <td>999.9</td>\n",
              "      <td>91.4</td>\n",
              "      <td></td>\n",
              "      <td>72.7</td>\n",
              "      <td>*</td>\n",
              "      <td>99.99</td>\n",
              "      <td></td>\n",
              "      <td>999.9</td>\n",
              "      <td>10010</td>\n",
              "    </tr>\n",
              "    <tr>\n",
              "      <th>3620</th>\n",
              "      <td>NaN</td>\n",
              "      <td>96685099999</td>\n",
              "      <td>2019-12-29</td>\n",
              "      <td>-3.442356</td>\n",
              "      <td>114.762553</td>\n",
              "      <td>20.11</td>\n",
              "      <td>SYAMSUDIN NOOR, ID</td>\n",
              "      <td>81.3</td>\n",
              "      <td>8</td>\n",
              "      <td>76.6</td>\n",
              "      <td>8</td>\n",
              "      <td>1010.0</td>\n",
              "      <td>8</td>\n",
              "      <td>7.9</td>\n",
              "      <td>8</td>\n",
              "      <td>5.1</td>\n",
              "      <td>8</td>\n",
              "      <td>4.0</td>\n",
              "      <td>8</td>\n",
              "      <td>9.9</td>\n",
              "      <td>999.9</td>\n",
              "      <td>89.6</td>\n",
              "      <td></td>\n",
              "      <td>71.8</td>\n",
              "      <td></td>\n",
              "      <td>0.03</td>\n",
              "      <td>A</td>\n",
              "      <td>999.9</td>\n",
              "      <td>10000</td>\n",
              "    </tr>\n",
              "    <tr>\n",
              "      <th>3621</th>\n",
              "      <td>NaN</td>\n",
              "      <td>96685099999</td>\n",
              "      <td>2019-12-30</td>\n",
              "      <td>-3.442356</td>\n",
              "      <td>114.762553</td>\n",
              "      <td>20.11</td>\n",
              "      <td>SYAMSUDIN NOOR, ID</td>\n",
              "      <td>82.1</td>\n",
              "      <td>7</td>\n",
              "      <td>76.2</td>\n",
              "      <td>7</td>\n",
              "      <td>1010.3</td>\n",
              "      <td>7</td>\n",
              "      <td>8.1</td>\n",
              "      <td>7</td>\n",
              "      <td>5.5</td>\n",
              "      <td>7</td>\n",
              "      <td>4.0</td>\n",
              "      <td>7</td>\n",
              "      <td>6.0</td>\n",
              "      <td>999.9</td>\n",
              "      <td>92.8</td>\n",
              "      <td>*</td>\n",
              "      <td>73.8</td>\n",
              "      <td></td>\n",
              "      <td>0.94</td>\n",
              "      <td>A</td>\n",
              "      <td>999.9</td>\n",
              "      <td>10000</td>\n",
              "    </tr>\n",
              "    <tr>\n",
              "      <th>3622</th>\n",
              "      <td>NaN</td>\n",
              "      <td>96685099999</td>\n",
              "      <td>2019-12-31</td>\n",
              "      <td>-3.442356</td>\n",
              "      <td>114.762553</td>\n",
              "      <td>20.11</td>\n",
              "      <td>SYAMSUDIN NOOR, ID</td>\n",
              "      <td>81.1</td>\n",
              "      <td>9</td>\n",
              "      <td>76.6</td>\n",
              "      <td>9</td>\n",
              "      <td>1010.4</td>\n",
              "      <td>8</td>\n",
              "      <td>8.2</td>\n",
              "      <td>8</td>\n",
              "      <td>4.7</td>\n",
              "      <td>9</td>\n",
              "      <td>4.4</td>\n",
              "      <td>9</td>\n",
              "      <td>8.0</td>\n",
              "      <td>999.9</td>\n",
              "      <td>90.7</td>\n",
              "      <td>*</td>\n",
              "      <td>75.2</td>\n",
              "      <td>*</td>\n",
              "      <td>0.17</td>\n",
              "      <td>B</td>\n",
              "      <td>999.9</td>\n",
              "      <td>10010</td>\n",
              "    </tr>\n",
              "  </tbody>\n",
              "</table>\n",
              "<p>3623 rows × 29 columns</p>\n",
              "</div>"
            ],
            "text/plain": [
              "      Unnamed: 0      STATION        DATE  ...  PRCP_ATTRIBUTES   SNDP  FRSHTT\n",
              "0            0.0  96685099999  2010-01-01  ...                B  999.9   10000\n",
              "1            1.0  96685099999  2010-01-02  ...                A  999.9   10010\n",
              "2            2.0  96685099999  2010-01-03  ...                I  999.9       0\n",
              "3            3.0  96685099999  2010-01-04  ...                A  999.9   10000\n",
              "4            4.0  96685099999  2010-01-05  ...                A  999.9   10000\n",
              "...          ...          ...         ...  ...              ...    ...     ...\n",
              "3618         NaN  96685099999  2019-12-27  ...                I  999.9       0\n",
              "3619         NaN  96685099999  2019-12-28  ...                   999.9   10010\n",
              "3620         NaN  96685099999  2019-12-29  ...                A  999.9   10000\n",
              "3621         NaN  96685099999  2019-12-30  ...                A  999.9   10000\n",
              "3622         NaN  96685099999  2019-12-31  ...                B  999.9   10010\n",
              "\n",
              "[3623 rows x 29 columns]"
            ]
          },
          "metadata": {
            "tags": []
          },
          "execution_count": 4
        }
      ]
    },
    {
      "cell_type": "code",
      "metadata": {
        "id": "0vWr0_Wvii-K",
        "colab": {
          "base_uri": "https://localhost:8080/"
        },
        "outputId": "0df1e146-d075-4407-c90d-b04b7a955638"
      },
      "source": [
        "#colum yang berada pada data set\n",
        "data.columns"
      ],
      "execution_count": null,
      "outputs": [
        {
          "output_type": "execute_result",
          "data": {
            "text/plain": [
              "Index(['Unnamed: 0', 'STATION', 'DATE', 'LATITUDE', 'LONGITUDE', 'ELEVATION',\n",
              "       'NAME', 'TEMP', 'TEMP_ATTRIBUTES', 'DEWP', 'DEWP_ATTRIBUTES', 'SLP',\n",
              "       'SLP_ATTRIBUTES', 'STP', 'STP_ATTRIBUTES', 'VISIB', 'VISIB_ATTRIBUTES',\n",
              "       'WDSP', 'WDSP_ATTRIBUTES', 'MXSPD', 'GUST', 'MAX', 'MAX_ATTRIBUTES',\n",
              "       'MIN', 'MIN_ATTRIBUTES', 'PRCP', 'PRCP_ATTRIBUTES', 'SNDP', 'FRSHTT'],\n",
              "      dtype='object')"
            ]
          },
          "metadata": {
            "tags": []
          },
          "execution_count": 5
        }
      ]
    },
    {
      "cell_type": "code",
      "metadata": {
        "id": "1hEaWKTp3Hwp",
        "colab": {
          "base_uri": "https://localhost:8080/"
        },
        "outputId": "a2420891-e1b7-47f0-d513-7cd383cf4d83"
      },
      "source": [
        "#mengelompokan record\n",
        "data['TEMP'][data['TEMP']<=70] = 70\n",
        "data['TEMP'][(data['TEMP']>70) & (data['TEMP']<80) ] = 75\n",
        "data['TEMP'][data['TEMP']>=80] = 80\n",
        "data['TEMP'].value_counts()"
      ],
      "execution_count": null,
      "outputs": [
        {
          "output_type": "stream",
          "text": [
            "/usr/local/lib/python3.6/dist-packages/ipykernel_launcher.py:2: SettingWithCopyWarning: \n",
            "A value is trying to be set on a copy of a slice from a DataFrame\n",
            "\n",
            "See the caveats in the documentation: https://pandas.pydata.org/pandas-docs/stable/user_guide/indexing.html#returning-a-view-versus-a-copy\n",
            "  \n",
            "/usr/local/lib/python3.6/dist-packages/ipykernel_launcher.py:3: SettingWithCopyWarning: \n",
            "A value is trying to be set on a copy of a slice from a DataFrame\n",
            "\n",
            "See the caveats in the documentation: https://pandas.pydata.org/pandas-docs/stable/user_guide/indexing.html#returning-a-view-versus-a-copy\n",
            "  This is separate from the ipykernel package so we can avoid doing imports until\n",
            "/usr/local/lib/python3.6/dist-packages/ipykernel_launcher.py:4: SettingWithCopyWarning: \n",
            "A value is trying to be set on a copy of a slice from a DataFrame\n",
            "\n",
            "See the caveats in the documentation: https://pandas.pydata.org/pandas-docs/stable/user_guide/indexing.html#returning-a-view-versus-a-copy\n",
            "  after removing the cwd from sys.path.\n"
          ],
          "name": "stderr"
        },
        {
          "output_type": "execute_result",
          "data": {
            "text/plain": [
              "80.0    2864\n",
              "75.0     759\n",
              "Name: TEMP, dtype: int64"
            ]
          },
          "metadata": {
            "tags": []
          },
          "execution_count": 6
        }
      ]
    },
    {
      "cell_type": "markdown",
      "metadata": {
        "id": "IAHhqPxCTpsj"
      },
      "source": [
        "# **CLEANING DATA**"
      ]
    },
    {
      "cell_type": "code",
      "metadata": {
        "id": "giRZ1eIz36Wv"
      },
      "source": [
        "#menghapus atribut yang tidak di gunakan\n",
        "datafiltered = data.drop(['Unnamed: 0','STATION','NAME', 'TEMP_ATTRIBUTES', 'DEWP', 'DEWP_ATTRIBUTES', 'SLP','SLP_ATTRIBUTES', 'STP', 'STP_ATTRIBUTES', 'VISIB', 'VISIB_ATTRIBUTES', 'WDSP_ATTRIBUTES','GUST', 'MAX_ATTRIBUTES', 'MIN_ATTRIBUTES','PRCP_ATTRIBUTES', 'SNDP', 'FRSHTT'], axis = 1)"
      ],
      "execution_count": null,
      "outputs": []
    },
    {
      "cell_type": "code",
      "metadata": {
        "id": "qcZip4gWQqSZ",
        "colab": {
          "base_uri": "https://localhost:8080/",
          "height": 406
        },
        "outputId": "e561c01e-2e28-40df-d4f4-4f4369bbc7a7"
      },
      "source": [
        "#pengecekan data\n",
        "datafiltered"
      ],
      "execution_count": null,
      "outputs": [
        {
          "output_type": "execute_result",
          "data": {
            "text/html": [
              "<div>\n",
              "<style scoped>\n",
              "    .dataframe tbody tr th:only-of-type {\n",
              "        vertical-align: middle;\n",
              "    }\n",
              "\n",
              "    .dataframe tbody tr th {\n",
              "        vertical-align: top;\n",
              "    }\n",
              "\n",
              "    .dataframe thead th {\n",
              "        text-align: right;\n",
              "    }\n",
              "</style>\n",
              "<table border=\"1\" class=\"dataframe\">\n",
              "  <thead>\n",
              "    <tr style=\"text-align: right;\">\n",
              "      <th></th>\n",
              "      <th>DATE</th>\n",
              "      <th>LATITUDE</th>\n",
              "      <th>LONGITUDE</th>\n",
              "      <th>ELEVATION</th>\n",
              "      <th>TEMP</th>\n",
              "      <th>WDSP</th>\n",
              "      <th>MXSPD</th>\n",
              "      <th>MAX</th>\n",
              "      <th>MIN</th>\n",
              "      <th>PRCP</th>\n",
              "    </tr>\n",
              "  </thead>\n",
              "  <tbody>\n",
              "    <tr>\n",
              "      <th>0</th>\n",
              "      <td>2010-01-01</td>\n",
              "      <td>-3.442356</td>\n",
              "      <td>114.762553</td>\n",
              "      <td>20.11</td>\n",
              "      <td>80.0</td>\n",
              "      <td>2.0</td>\n",
              "      <td>5.1</td>\n",
              "      <td>87.3</td>\n",
              "      <td>75.9</td>\n",
              "      <td>0.78</td>\n",
              "    </tr>\n",
              "    <tr>\n",
              "      <th>1</th>\n",
              "      <td>2010-01-02</td>\n",
              "      <td>-3.442356</td>\n",
              "      <td>114.762553</td>\n",
              "      <td>20.11</td>\n",
              "      <td>80.0</td>\n",
              "      <td>2.8</td>\n",
              "      <td>11.1</td>\n",
              "      <td>90.0</td>\n",
              "      <td>75.9</td>\n",
              "      <td>1.89</td>\n",
              "    </tr>\n",
              "    <tr>\n",
              "      <th>2</th>\n",
              "      <td>2010-01-03</td>\n",
              "      <td>-3.442356</td>\n",
              "      <td>114.762553</td>\n",
              "      <td>20.11</td>\n",
              "      <td>80.0</td>\n",
              "      <td>3.1</td>\n",
              "      <td>6.0</td>\n",
              "      <td>89.6</td>\n",
              "      <td>75.6</td>\n",
              "      <td>0.00</td>\n",
              "    </tr>\n",
              "    <tr>\n",
              "      <th>3</th>\n",
              "      <td>2010-01-04</td>\n",
              "      <td>-3.442356</td>\n",
              "      <td>114.762553</td>\n",
              "      <td>20.11</td>\n",
              "      <td>80.0</td>\n",
              "      <td>2.3</td>\n",
              "      <td>5.1</td>\n",
              "      <td>90.0</td>\n",
              "      <td>75.2</td>\n",
              "      <td>1.57</td>\n",
              "    </tr>\n",
              "    <tr>\n",
              "      <th>4</th>\n",
              "      <td>2010-01-05</td>\n",
              "      <td>-3.442356</td>\n",
              "      <td>114.762553</td>\n",
              "      <td>20.11</td>\n",
              "      <td>80.0</td>\n",
              "      <td>3.8</td>\n",
              "      <td>8.9</td>\n",
              "      <td>86.0</td>\n",
              "      <td>75.2</td>\n",
              "      <td>0.20</td>\n",
              "    </tr>\n",
              "    <tr>\n",
              "      <th>...</th>\n",
              "      <td>...</td>\n",
              "      <td>...</td>\n",
              "      <td>...</td>\n",
              "      <td>...</td>\n",
              "      <td>...</td>\n",
              "      <td>...</td>\n",
              "      <td>...</td>\n",
              "      <td>...</td>\n",
              "      <td>...</td>\n",
              "      <td>...</td>\n",
              "    </tr>\n",
              "    <tr>\n",
              "      <th>3618</th>\n",
              "      <td>2019-12-27</td>\n",
              "      <td>-3.442356</td>\n",
              "      <td>114.762553</td>\n",
              "      <td>20.11</td>\n",
              "      <td>80.0</td>\n",
              "      <td>4.0</td>\n",
              "      <td>7.0</td>\n",
              "      <td>92.8</td>\n",
              "      <td>75.9</td>\n",
              "      <td>0.00</td>\n",
              "    </tr>\n",
              "    <tr>\n",
              "      <th>3619</th>\n",
              "      <td>2019-12-28</td>\n",
              "      <td>-3.442356</td>\n",
              "      <td>114.762553</td>\n",
              "      <td>20.11</td>\n",
              "      <td>80.0</td>\n",
              "      <td>4.2</td>\n",
              "      <td>7.0</td>\n",
              "      <td>91.4</td>\n",
              "      <td>72.7</td>\n",
              "      <td>99.99</td>\n",
              "    </tr>\n",
              "    <tr>\n",
              "      <th>3620</th>\n",
              "      <td>2019-12-29</td>\n",
              "      <td>-3.442356</td>\n",
              "      <td>114.762553</td>\n",
              "      <td>20.11</td>\n",
              "      <td>80.0</td>\n",
              "      <td>4.0</td>\n",
              "      <td>9.9</td>\n",
              "      <td>89.6</td>\n",
              "      <td>71.8</td>\n",
              "      <td>0.03</td>\n",
              "    </tr>\n",
              "    <tr>\n",
              "      <th>3621</th>\n",
              "      <td>2019-12-30</td>\n",
              "      <td>-3.442356</td>\n",
              "      <td>114.762553</td>\n",
              "      <td>20.11</td>\n",
              "      <td>80.0</td>\n",
              "      <td>4.0</td>\n",
              "      <td>6.0</td>\n",
              "      <td>92.8</td>\n",
              "      <td>73.8</td>\n",
              "      <td>0.94</td>\n",
              "    </tr>\n",
              "    <tr>\n",
              "      <th>3622</th>\n",
              "      <td>2019-12-31</td>\n",
              "      <td>-3.442356</td>\n",
              "      <td>114.762553</td>\n",
              "      <td>20.11</td>\n",
              "      <td>80.0</td>\n",
              "      <td>4.4</td>\n",
              "      <td>8.0</td>\n",
              "      <td>90.7</td>\n",
              "      <td>75.2</td>\n",
              "      <td>0.17</td>\n",
              "    </tr>\n",
              "  </tbody>\n",
              "</table>\n",
              "<p>3623 rows × 10 columns</p>\n",
              "</div>"
            ],
            "text/plain": [
              "            DATE  LATITUDE   LONGITUDE  ELEVATION  ...  MXSPD   MAX   MIN   PRCP\n",
              "0     2010-01-01 -3.442356  114.762553      20.11  ...    5.1  87.3  75.9   0.78\n",
              "1     2010-01-02 -3.442356  114.762553      20.11  ...   11.1  90.0  75.9   1.89\n",
              "2     2010-01-03 -3.442356  114.762553      20.11  ...    6.0  89.6  75.6   0.00\n",
              "3     2010-01-04 -3.442356  114.762553      20.11  ...    5.1  90.0  75.2   1.57\n",
              "4     2010-01-05 -3.442356  114.762553      20.11  ...    8.9  86.0  75.2   0.20\n",
              "...          ...       ...         ...        ...  ...    ...   ...   ...    ...\n",
              "3618  2019-12-27 -3.442356  114.762553      20.11  ...    7.0  92.8  75.9   0.00\n",
              "3619  2019-12-28 -3.442356  114.762553      20.11  ...    7.0  91.4  72.7  99.99\n",
              "3620  2019-12-29 -3.442356  114.762553      20.11  ...    9.9  89.6  71.8   0.03\n",
              "3621  2019-12-30 -3.442356  114.762553      20.11  ...    6.0  92.8  73.8   0.94\n",
              "3622  2019-12-31 -3.442356  114.762553      20.11  ...    8.0  90.7  75.2   0.17\n",
              "\n",
              "[3623 rows x 10 columns]"
            ]
          },
          "metadata": {
            "tags": []
          },
          "execution_count": 9
        }
      ]
    },
    {
      "cell_type": "code",
      "metadata": {
        "id": "d6cE1kksSx0X",
        "colab": {
          "base_uri": "https://localhost:8080/"
        },
        "outputId": "4d853544-7027-4221-b70b-ad254c7340f0"
      },
      "source": [
        "#mengecek data yang kosong\n",
        "datafiltered.isnull().any()"
      ],
      "execution_count": null,
      "outputs": [
        {
          "output_type": "execute_result",
          "data": {
            "text/plain": [
              "DATE         False\n",
              "LATITUDE     False\n",
              "LONGITUDE    False\n",
              "ELEVATION    False\n",
              "TEMP         False\n",
              "WDSP         False\n",
              "MXSPD        False\n",
              "MAX          False\n",
              "MIN          False\n",
              "PRCP         False\n",
              "dtype: bool"
            ]
          },
          "metadata": {
            "tags": []
          },
          "execution_count": 10
        }
      ]
    },
    {
      "cell_type": "markdown",
      "metadata": {
        "id": "a9tYTG6AUpD6"
      },
      "source": [
        "# **PROCESSING**"
      ]
    },
    {
      "cell_type": "code",
      "metadata": {
        "id": "YXyoMKkPUtFT",
        "colab": {
          "base_uri": "https://localhost:8080/"
        },
        "outputId": "39831dde-9e90-4f05-efc4-4aa1b9960e03"
      },
      "source": [
        "#menentukan variabel independen mempengaruhi\n",
        "X = datafiltered[['LATITUDE','LONGITUDE', 'ELEVATION', 'WDSP', 'MXSPD', 'MAX', 'MIN','PRCP']] .values  #.astype(float)\n",
        "X[0:5]"
      ],
      "execution_count": null,
      "outputs": [
        {
          "output_type": "execute_result",
          "data": {
            "text/plain": [
              "array([[ -3.442356, 114.762553,  20.11    ,   2.      ,   5.1     ,\n",
              "         87.3     ,  75.9     ,   0.78    ],\n",
              "       [ -3.442356, 114.762553,  20.11    ,   2.8     ,  11.1     ,\n",
              "         90.      ,  75.9     ,   1.89    ],\n",
              "       [ -3.442356, 114.762553,  20.11    ,   3.1     ,   6.      ,\n",
              "         89.6     ,  75.6     ,   0.      ],\n",
              "       [ -3.442356, 114.762553,  20.11    ,   2.3     ,   5.1     ,\n",
              "         90.      ,  75.2     ,   1.57    ],\n",
              "       [ -3.442356, 114.762553,  20.11    ,   3.8     ,   8.9     ,\n",
              "         86.      ,  75.2     ,   0.2     ]])"
            ]
          },
          "metadata": {
            "tags": []
          },
          "execution_count": 11
        }
      ]
    },
    {
      "cell_type": "code",
      "metadata": {
        "id": "YAsf0r4KVnR2",
        "colab": {
          "base_uri": "https://localhost:8080/"
        },
        "outputId": "0c44deab-7136-4b06-a5a4-adb1e6660e3a"
      },
      "source": [
        "#menentukan variabel dependen dipengaruhi\n",
        "y = datafiltered['TEMP'].values\n",
        "y[0:5]"
      ],
      "execution_count": null,
      "outputs": [
        {
          "output_type": "execute_result",
          "data": {
            "text/plain": [
              "array([80., 80., 80., 80., 80.])"
            ]
          },
          "metadata": {
            "tags": []
          },
          "execution_count": 12
        }
      ]
    },
    {
      "cell_type": "code",
      "metadata": {
        "id": "CfjPaF3XWtx6",
        "colab": {
          "base_uri": "https://localhost:8080/"
        },
        "outputId": "d5d8fa56-5ab0-4937-d73d-6dde9917574f"
      },
      "source": [
        "#membagi data menjadi data testing dan data training\n",
        "from sklearn.model_selection import train_test_split\n",
        "X_train, X_test, y_train, y_test = train_test_split( X, y, test_size=0.2, random_state=4)\n",
        "print ('Train set:', X_train.shape,  y_train.shape)\n",
        "print ('Test set:', X_test.shape,  y_test.shape)"
      ],
      "execution_count": null,
      "outputs": [
        {
          "output_type": "stream",
          "text": [
            "Train set: (2898, 8) (2898,)\n",
            "Test set: (725, 8) (725,)\n"
          ],
          "name": "stdout"
        }
      ]
    },
    {
      "cell_type": "code",
      "metadata": {
        "id": "NsCUzfQZXhJT",
        "colab": {
          "base_uri": "https://localhost:8080/"
        },
        "outputId": "208224df-b2cc-4db8-a94b-2f2c1b0e8bd6"
      },
      "source": [
        "#Mengklasifikasikan dan mengimport KNN\n",
        "from sklearn.neighbors import KNeighborsClassifier\n",
        "knn = KNeighborsClassifier()\n",
        "knn.fit(X_train, y_train)"
      ],
      "execution_count": null,
      "outputs": [
        {
          "output_type": "execute_result",
          "data": {
            "text/plain": [
              "KNeighborsClassifier(algorithm='auto', leaf_size=30, metric='minkowski',\n",
              "                     metric_params=None, n_jobs=None, n_neighbors=5, p=2,\n",
              "                     weights='uniform')"
            ]
          },
          "metadata": {
            "tags": []
          },
          "execution_count": 15
        }
      ]
    },
    {
      "cell_type": "code",
      "metadata": {
        "id": "QHkUbiK1YR36",
        "colab": {
          "base_uri": "https://localhost:8080/",
          "height": 1000
        },
        "outputId": "eb8451b7-51a4-48dc-e154-dd3d5aceb1d0"
      },
      "source": [
        "#prediksi\n",
        "yhat = knn.predict(X_test)\n",
        "yhat [0:50]\n"
      ],
      "execution_count": null,
      "outputs": [
        {
          "output_type": "error",
          "ename": "NameError",
          "evalue": "ignored",
          "traceback": [
            "\u001b[0;31m---------------------------------------------------------------------------\u001b[0m",
            "\u001b[0;31mNameError\u001b[0m                                 Traceback (most recent call last)",
            "\u001b[0;32m<ipython-input-1-86c307bb41cb>\u001b[0m in \u001b[0;36m<module>\u001b[0;34m()\u001b[0m\n\u001b[1;32m      1\u001b[0m \u001b[0;31m#prediksi\u001b[0m\u001b[0;34m\u001b[0m\u001b[0;34m\u001b[0m\u001b[0;34m\u001b[0m\u001b[0m\n\u001b[0;32m----> 2\u001b[0;31m \u001b[0myhat\u001b[0m \u001b[0;34m=\u001b[0m \u001b[0mknn\u001b[0m\u001b[0;34m.\u001b[0m\u001b[0mpredict\u001b[0m\u001b[0;34m(\u001b[0m\u001b[0mX_test\u001b[0m\u001b[0;34m)\u001b[0m\u001b[0;34m\u001b[0m\u001b[0;34m\u001b[0m\u001b[0m\n\u001b[0m\u001b[1;32m      3\u001b[0m \u001b[0myhat\u001b[0m \u001b[0;34m[\u001b[0m\u001b[0;36m0\u001b[0m\u001b[0;34m:\u001b[0m\u001b[0;36m50\u001b[0m\u001b[0;34m]\u001b[0m\u001b[0;34m\u001b[0m\u001b[0;34m\u001b[0m\u001b[0m\n\u001b[1;32m      4\u001b[0m \u001b[0mcount\u001b[0m \u001b[0;34m[\u001b[0m\u001b[0;34m'TEMP'\u001b[0m\u001b[0;34m,\u001b[0m \u001b[0;36m80\u001b[0m\u001b[0;34m]\u001b[0m\u001b[0;34m\u001b[0m\u001b[0;34m\u001b[0m\u001b[0m\n",
            "\u001b[0;31mNameError\u001b[0m: name 'knn' is not defined"
          ]
        }
      ]
    },
    {
      "cell_type": "code",
      "metadata": {
        "id": "whYm9uQTwSXP",
        "colab": {
          "base_uri": "https://localhost:8080/"
        },
        "outputId": "0138b361-5ffe-40ec-9d16-2f9050d60018"
      },
      "source": [
        "#menghitung tingkat akurasi data prediksi\n",
        "from sklearn import metrics\n",
        "print(\"Train set Accuracy: \", metrics.accuracy_score(y_train, knn.predict(X_train)))\n",
        "print(\"Test set Accuracy: \", metrics.accuracy_score(y_test, yhat))"
      ],
      "execution_count": null,
      "outputs": [
        {
          "output_type": "stream",
          "text": [
            "Train set Accuracy:  0.8992408557625949\n",
            "Test set Accuracy:  0.8993103448275862\n"
          ],
          "name": "stdout"
        }
      ]
    },
    {
      "cell_type": "code",
      "metadata": {
        "id": "FXzJLNHMOs6P",
        "colab": {
          "base_uri": "https://localhost:8080/"
        },
        "outputId": "9706b702-6f11-4cb2-a920-ae3de57f946d"
      },
      "source": [
        "#mencari tingkat akurasi terbaik berdasarkan K (Tetangga)\n",
        "Ks = 10\n",
        "mean_acc = np.zeros((Ks-1))\n",
        "std_acc = np.zeros((Ks-1))\n",
        "ConfustionMx = [];\n",
        "for n in range(1,Ks):\n",
        "    \n",
        "    #Train Model and Predict  \n",
        "    neigh = KNeighborsClassifier(n_neighbors = n).fit(X_train,y_train)\n",
        "    yhat=neigh.predict(X_test)\n",
        "    mean_acc[n-1] = metrics.accuracy_score(y_test, yhat)\n",
        "\n",
        "    \n",
        "    std_acc[n-1]=np.std(yhat==y_test)/np.sqrt(yhat.shape[0])\n",
        "\n",
        "mean_acc"
      ],
      "execution_count": null,
      "outputs": [
        {
          "output_type": "execute_result",
          "data": {
            "text/plain": [
              "array([0.85241379, 0.84137931, 0.88413793, 0.87862069, 0.89931034,\n",
              "       0.89793103, 0.89931034, 0.89655172, 0.90206897])"
            ]
          },
          "metadata": {
            "tags": []
          },
          "execution_count": 26
        }
      ]
    },
    {
      "cell_type": "code",
      "metadata": {
        "id": "RRKxt08CPiuM",
        "colab": {
          "base_uri": "https://localhost:8080/",
          "height": 296
        },
        "outputId": "d7d74900-8e95-4c65-c30b-a2bdb50014fd"
      },
      "source": [
        "#menampilkan grafik berdasarkan nilai akurasi K \n",
        "plt.plot(range(1,Ks),mean_acc,'g')\n",
        "plt.fill_between(range(1,Ks),mean_acc - 1 * std_acc,mean_acc + 1 * std_acc, alpha=0.10)\n",
        "plt.legend(('Accuracy ', '+/- 3xstd'))\n",
        "plt.ylabel('Accuracy ')\n",
        "plt.xlabel('Number of Nabors (K)')\n",
        "plt.tight_layout()\n",
        "plt.show()"
      ],
      "execution_count": null,
      "outputs": [
        {
          "output_type": "display_data",
          "data": {
            "image/png": "[encoded data removed]",
            "text/plain": [
              "<Figure size 432x288 with 1 Axes>"
            ]
          },
          "metadata": {
            "tags": [],
            "needs_background": "light"
          }
        }
      ]
    },
    {
      "cell_type": "code",
      "metadata": {
        "id": "_FIFYrryP2h3",
        "colab": {
          "base_uri": "https://localhost:8080/"
        },
        "outputId": "1c9ff1ce-0cce-4fe7-aa7c-afeb3f4a09bd"
      },
      "source": [
        "#mencari akurasi terbaik dengan K keberapa\n",
        "print( \"The best accuracy was with\", mean_acc.max(), \"with k=\", mean_acc.argmax()+1) "
      ],
      "execution_count": null,
      "outputs": [
        {
          "output_type": "stream",
          "text": [
            "The best accuracy was with 0.9020689655172414 with k= 9\n"
          ],
          "name": "stdout"
        }
      ]
    }
  ]
}